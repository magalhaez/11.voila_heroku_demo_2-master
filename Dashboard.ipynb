{
 "cells": [
  {
   "cell_type": "markdown",
   "metadata": {},
   "source": [
    "<h1><center>My Reddit monitoring dashboard for Python </center></h1>\n"
   ]
  },
  {
   "cell_type": "markdown",
   "metadata": {},
   "source": [
    "<center><i>A simple dashboard to monitor keywords in Reddit, made with <a href=\"https://github.com/voila-dashboards/voila\">Voila</a>, <a href=\"https://pandas.pydata.org/\">Pandas</a>, <a href=\"https://plot.ly/python/plotly-express/\">Plotly Express</a> and <a href=\"https://textblob.readthedocs.io/en/dev/\">TextBlob</a>.</i></center>"
   ]
  },
  {
   "cell_type": "markdown",
   "metadata": {},
   "source": [
    "<center><i><a href=\"https://github.com/NaquibAlam/voila_heroku_demo_2\">Source code on github</a></i></center>"
   ]
  },
  {
   "cell_type": "code",
   "execution_count": 64,
   "metadata": {},
   "outputs": [
    {
     "name": "stderr",
     "output_type": "stream",
     "text": [
      "[nltk_data] Downloading package punkt to /Users/m0a04ut/nltk_data...\n",
      "[nltk_data]   Package punkt is already up-to-date!\n",
      "/Users/m0a04ut/anaconda3/lib/python3.7/site-packages/ipykernel_launcher.py:9: FutureWarning:\n",
      "\n",
      "Passing a negative integer is deprecated in version 1.0 and will not be supported in future version. Instead, use None to not limit the column width.\n",
      "\n"
     ]
    }
   ],
   "source": [
    "# import libraries\n",
    "\n",
    "import requests\n",
    "import pandas\n",
    "import textblob\n",
    "import plotly.express as px\n",
    "import nltk\n",
    "nltk.download('punkt')\n",
    "pandas.set_option('display.max_colwidth', -1) # don't cut my pandas dataframes"
   ]
  },
  {
   "cell_type": "code",
   "execution_count": 75,
   "metadata": {},
   "outputs": [],
   "source": [
    "# define variables\n",
    "\n",
    "COMMENT_COLOR         = \"blueviolet\"\n",
    "SUBMISSION_COLOR      = \"darkorange\"\n",
    "TEXT_PREVIEW_SIZE     = 240\n",
    "TERM_OF_INTEREST      = \"covid\"\n",
    "SUBREDDIT_OF_INTEREST = \"covid\"\n",
    "TIMEFRAME             = \"48h\" # see more options in the pushshift api docs: https://github.com/pushshift/api\n",
    "SIZE                  = 500 #no of records to return"
   ]
  },
  {
   "cell_type": "code",
   "execution_count": 76,
   "metadata": {},
   "outputs": [],
   "source": [
    "# a couple of helper functions\n",
    "\n",
    "def get_reddit_data(data_type, **kwargs):\n",
    "    \"\"\"\n",
    "    Gets data from the pushshift api.\n",
    "    \n",
    "    Data type can be 'comment' or 'submission'\n",
    "    The rest of the args as interpreted as payload.\n",
    "    \n",
    "    Read more: https://github.com/pushshift/api\n",
    "    \"\"\"\n",
    "    \n",
    "    base_url = f\"https://api.pushshift.io/reddit/search/{data_type}/\"\n",
    "    payload = kwargs\n",
    "    \n",
    "    request = requests.get(base_url, params=payload)\n",
    "    \n",
    "    return request.json()\n",
    "\n",
    "\n",
    "def make_clickable(val):\n",
    "    \"\"\"\n",
    "    Makes a pandas column clickable.\n",
    "    \"\"\"\n",
    "    \n",
    "    return '<a href=\"{}\">Link</a>'.format(val)"
   ]
  },
  {
   "cell_type": "markdown",
   "metadata": {},
   "source": [
    "# Figure Index\n",
    "\n",
    "- [Comment activity](#1)\n",
    "- [Submission activity](#2)\n",
    "- [Most upvoted comments](#3) \n",
    "- [Most commented submissions](#4) \n",
    "- [/r/covid comment sentiment timeline](#5)"
   ]
  },
  {
   "cell_type": "markdown",
   "metadata": {},
   "source": [
    "## Comment activity <a class=\"anchor\" id=\"1\"></a>"
   ]
  },
  {
   "cell_type": "code",
   "execution_count": 77,
   "metadata": {
    "tags": []
   },
   "outputs": [
    {
     "data": {
      "application/vnd.plotly.v1+json": {
       "config": {
        "plotlyServerURL": "https://plot.ly"
       },
       "data": [
        {
         "alignmentgroup": "True",
         "hoverlabel": {
          "namelength": 0
         },
         "hovertemplate": "Subreddits=%{x}<br>Number of comments=%{y}",
         "legendgroup": "",
         "marker": {
          "color": "blueviolet"
         },
         "name": "",
         "offsetgroup": "",
         "orientation": "v",
         "showlegend": false,
         "textposition": "auto",
         "type": "bar",
         "x": [
          "politics",
          "news",
          "AmItheAsshole",
          "CollegeBasketball",
          "conspiracy",
          "mildlyinfuriating",
          "MoaiGreddit",
          "memes",
          "Coronavirus",
          "AskReddit"
         ],
         "xaxis": "x",
         "y": [
          5,
          4,
          4,
          3,
          3,
          2,
          2,
          2,
          2,
          2
         ],
         "yaxis": "y"
        }
       ],
       "layout": {
        "barmode": "relative",
        "height": 500,
        "legend": {
         "tracegroupgap": 0
        },
        "template": {
         "data": {
          "bar": [
           {
            "error_x": {
             "color": "#2a3f5f"
            },
            "error_y": {
             "color": "#2a3f5f"
            },
            "marker": {
             "line": {
              "color": "#E5ECF6",
              "width": 0.5
             }
            },
            "type": "bar"
           }
          ],
          "barpolar": [
           {
            "marker": {
             "line": {
              "color": "#E5ECF6",
              "width": 0.5
             }
            },
            "type": "barpolar"
           }
          ],
          "carpet": [
           {
            "aaxis": {
             "endlinecolor": "#2a3f5f",
             "gridcolor": "white",
             "linecolor": "white",
             "minorgridcolor": "white",
             "startlinecolor": "#2a3f5f"
            },
            "baxis": {
             "endlinecolor": "#2a3f5f",
             "gridcolor": "white",
             "linecolor": "white",
             "minorgridcolor": "white",
             "startlinecolor": "#2a3f5f"
            },
            "type": "carpet"
           }
          ],
          "choropleth": [
           {
            "colorbar": {
             "outlinewidth": 0,
             "ticks": ""
            },
            "type": "choropleth"
           }
          ],
          "contour": [
           {
            "colorbar": {
             "outlinewidth": 0,
             "ticks": ""
            },
            "colorscale": [
             [
              0,
              "#0d0887"
             ],
             [
              0.1111111111111111,
              "#46039f"
             ],
             [
              0.2222222222222222,
              "#7201a8"
             ],
             [
              0.3333333333333333,
              "#9c179e"
             ],
             [
              0.4444444444444444,
              "#bd3786"
             ],
             [
              0.5555555555555556,
              "#d8576b"
             ],
             [
              0.6666666666666666,
              "#ed7953"
             ],
             [
              0.7777777777777778,
              "#fb9f3a"
             ],
             [
              0.8888888888888888,
              "#fdca26"
             ],
             [
              1,
              "#f0f921"
             ]
            ],
            "type": "contour"
           }
          ],
          "contourcarpet": [
           {
            "colorbar": {
             "outlinewidth": 0,
             "ticks": ""
            },
            "type": "contourcarpet"
           }
          ],
          "heatmap": [
           {
            "colorbar": {
             "outlinewidth": 0,
             "ticks": ""
            },
            "colorscale": [
             [
              0,
              "#0d0887"
             ],
             [
              0.1111111111111111,
              "#46039f"
             ],
             [
              0.2222222222222222,
              "#7201a8"
             ],
             [
              0.3333333333333333,
              "#9c179e"
             ],
             [
              0.4444444444444444,
              "#bd3786"
             ],
             [
              0.5555555555555556,
              "#d8576b"
             ],
             [
              0.6666666666666666,
              "#ed7953"
             ],
             [
              0.7777777777777778,
              "#fb9f3a"
             ],
             [
              0.8888888888888888,
              "#fdca26"
             ],
             [
              1,
              "#f0f921"
             ]
            ],
            "type": "heatmap"
           }
          ],
          "heatmapgl": [
           {
            "colorbar": {
             "outlinewidth": 0,
             "ticks": ""
            },
            "colorscale": [
             [
              0,
              "#0d0887"
             ],
             [
              0.1111111111111111,
              "#46039f"
             ],
             [
              0.2222222222222222,
              "#7201a8"
             ],
             [
              0.3333333333333333,
              "#9c179e"
             ],
             [
              0.4444444444444444,
              "#bd3786"
             ],
             [
              0.5555555555555556,
              "#d8576b"
             ],
             [
              0.6666666666666666,
              "#ed7953"
             ],
             [
              0.7777777777777778,
              "#fb9f3a"
             ],
             [
              0.8888888888888888,
              "#fdca26"
             ],
             [
              1,
              "#f0f921"
             ]
            ],
            "type": "heatmapgl"
           }
          ],
          "histogram": [
           {
            "marker": {
             "colorbar": {
              "outlinewidth": 0,
              "ticks": ""
             }
            },
            "type": "histogram"
           }
          ],
          "histogram2d": [
           {
            "colorbar": {
             "outlinewidth": 0,
             "ticks": ""
            },
            "colorscale": [
             [
              0,
              "#0d0887"
             ],
             [
              0.1111111111111111,
              "#46039f"
             ],
             [
              0.2222222222222222,
              "#7201a8"
             ],
             [
              0.3333333333333333,
              "#9c179e"
             ],
             [
              0.4444444444444444,
              "#bd3786"
             ],
             [
              0.5555555555555556,
              "#d8576b"
             ],
             [
              0.6666666666666666,
              "#ed7953"
             ],
             [
              0.7777777777777778,
              "#fb9f3a"
             ],
             [
              0.8888888888888888,
              "#fdca26"
             ],
             [
              1,
              "#f0f921"
             ]
            ],
            "type": "histogram2d"
           }
          ],
          "histogram2dcontour": [
           {
            "colorbar": {
             "outlinewidth": 0,
             "ticks": ""
            },
            "colorscale": [
             [
              0,
              "#0d0887"
             ],
             [
              0.1111111111111111,
              "#46039f"
             ],
             [
              0.2222222222222222,
              "#7201a8"
             ],
             [
              0.3333333333333333,
              "#9c179e"
             ],
             [
              0.4444444444444444,
              "#bd3786"
             ],
             [
              0.5555555555555556,
              "#d8576b"
             ],
             [
              0.6666666666666666,
              "#ed7953"
             ],
             [
              0.7777777777777778,
              "#fb9f3a"
             ],
             [
              0.8888888888888888,
              "#fdca26"
             ],
             [
              1,
              "#f0f921"
             ]
            ],
            "type": "histogram2dcontour"
           }
          ],
          "mesh3d": [
           {
            "colorbar": {
             "outlinewidth": 0,
             "ticks": ""
            },
            "type": "mesh3d"
           }
          ],
          "parcoords": [
           {
            "line": {
             "colorbar": {
              "outlinewidth": 0,
              "ticks": ""
             }
            },
            "type": "parcoords"
           }
          ],
          "pie": [
           {
            "automargin": true,
            "type": "pie"
           }
          ],
          "scatter": [
           {
            "marker": {
             "colorbar": {
              "outlinewidth": 0,
              "ticks": ""
             }
            },
            "type": "scatter"
           }
          ],
          "scatter3d": [
           {
            "line": {
             "colorbar": {
              "outlinewidth": 0,
              "ticks": ""
             }
            },
            "marker": {
             "colorbar": {
              "outlinewidth": 0,
              "ticks": ""
             }
            },
            "type": "scatter3d"
           }
          ],
          "scattercarpet": [
           {
            "marker": {
             "colorbar": {
              "outlinewidth": 0,
              "ticks": ""
             }
            },
            "type": "scattercarpet"
           }
          ],
          "scattergeo": [
           {
            "marker": {
             "colorbar": {
              "outlinewidth": 0,
              "ticks": ""
             }
            },
            "type": "scattergeo"
           }
          ],
          "scattergl": [
           {
            "marker": {
             "colorbar": {
              "outlinewidth": 0,
              "ticks": ""
             }
            },
            "type": "scattergl"
           }
          ],
          "scattermapbox": [
           {
            "marker": {
             "colorbar": {
              "outlinewidth": 0,
              "ticks": ""
             }
            },
            "type": "scattermapbox"
           }
          ],
          "scatterpolar": [
           {
            "marker": {
             "colorbar": {
              "outlinewidth": 0,
              "ticks": ""
             }
            },
            "type": "scatterpolar"
           }
          ],
          "scatterpolargl": [
           {
            "marker": {
             "colorbar": {
              "outlinewidth": 0,
              "ticks": ""
             }
            },
            "type": "scatterpolargl"
           }
          ],
          "scatterternary": [
           {
            "marker": {
             "colorbar": {
              "outlinewidth": 0,
              "ticks": ""
             }
            },
            "type": "scatterternary"
           }
          ],
          "surface": [
           {
            "colorbar": {
             "outlinewidth": 0,
             "ticks": ""
            },
            "colorscale": [
             [
              0,
              "#0d0887"
             ],
             [
              0.1111111111111111,
              "#46039f"
             ],
             [
              0.2222222222222222,
              "#7201a8"
             ],
             [
              0.3333333333333333,
              "#9c179e"
             ],
             [
              0.4444444444444444,
              "#bd3786"
             ],
             [
              0.5555555555555556,
              "#d8576b"
             ],
             [
              0.6666666666666666,
              "#ed7953"
             ],
             [
              0.7777777777777778,
              "#fb9f3a"
             ],
             [
              0.8888888888888888,
              "#fdca26"
             ],
             [
              1,
              "#f0f921"
             ]
            ],
            "type": "surface"
           }
          ],
          "table": [
           {
            "cells": {
             "fill": {
              "color": "#EBF0F8"
             },
             "line": {
              "color": "white"
             }
            },
            "header": {
             "fill": {
              "color": "#C8D4E3"
             },
             "line": {
              "color": "white"
             }
            },
            "type": "table"
           }
          ]
         },
         "layout": {
          "annotationdefaults": {
           "arrowcolor": "#2a3f5f",
           "arrowhead": 0,
           "arrowwidth": 1
          },
          "coloraxis": {
           "colorbar": {
            "outlinewidth": 0,
            "ticks": ""
           }
          },
          "colorscale": {
           "diverging": [
            [
             0,
             "#8e0152"
            ],
            [
             0.1,
             "#c51b7d"
            ],
            [
             0.2,
             "#de77ae"
            ],
            [
             0.3,
             "#f1b6da"
            ],
            [
             0.4,
             "#fde0ef"
            ],
            [
             0.5,
             "#f7f7f7"
            ],
            [
             0.6,
             "#e6f5d0"
            ],
            [
             0.7,
             "#b8e186"
            ],
            [
             0.8,
             "#7fbc41"
            ],
            [
             0.9,
             "#4d9221"
            ],
            [
             1,
             "#276419"
            ]
           ],
           "sequential": [
            [
             0,
             "#0d0887"
            ],
            [
             0.1111111111111111,
             "#46039f"
            ],
            [
             0.2222222222222222,
             "#7201a8"
            ],
            [
             0.3333333333333333,
             "#9c179e"
            ],
            [
             0.4444444444444444,
             "#bd3786"
            ],
            [
             0.5555555555555556,
             "#d8576b"
            ],
            [
             0.6666666666666666,
             "#ed7953"
            ],
            [
             0.7777777777777778,
             "#fb9f3a"
            ],
            [
             0.8888888888888888,
             "#fdca26"
            ],
            [
             1,
             "#f0f921"
            ]
           ],
           "sequentialminus": [
            [
             0,
             "#0d0887"
            ],
            [
             0.1111111111111111,
             "#46039f"
            ],
            [
             0.2222222222222222,
             "#7201a8"
            ],
            [
             0.3333333333333333,
             "#9c179e"
            ],
            [
             0.4444444444444444,
             "#bd3786"
            ],
            [
             0.5555555555555556,
             "#d8576b"
            ],
            [
             0.6666666666666666,
             "#ed7953"
            ],
            [
             0.7777777777777778,
             "#fb9f3a"
            ],
            [
             0.8888888888888888,
             "#fdca26"
            ],
            [
             1,
             "#f0f921"
            ]
           ]
          },
          "colorway": [
           "#636efa",
           "#EF553B",
           "#00cc96",
           "#ab63fa",
           "#FFA15A",
           "#19d3f3",
           "#FF6692",
           "#B6E880",
           "#FF97FF",
           "#FECB52"
          ],
          "font": {
           "color": "#2a3f5f"
          },
          "geo": {
           "bgcolor": "white",
           "lakecolor": "white",
           "landcolor": "#E5ECF6",
           "showlakes": true,
           "showland": true,
           "subunitcolor": "white"
          },
          "hoverlabel": {
           "align": "left"
          },
          "hovermode": "closest",
          "mapbox": {
           "style": "light"
          },
          "paper_bgcolor": "white",
          "plot_bgcolor": "#E5ECF6",
          "polar": {
           "angularaxis": {
            "gridcolor": "white",
            "linecolor": "white",
            "ticks": ""
           },
           "bgcolor": "#E5ECF6",
           "radialaxis": {
            "gridcolor": "white",
            "linecolor": "white",
            "ticks": ""
           }
          },
          "scene": {
           "xaxis": {
            "backgroundcolor": "#E5ECF6",
            "gridcolor": "white",
            "gridwidth": 2,
            "linecolor": "white",
            "showbackground": true,
            "ticks": "",
            "zerolinecolor": "white"
           },
           "yaxis": {
            "backgroundcolor": "#E5ECF6",
            "gridcolor": "white",
            "gridwidth": 2,
            "linecolor": "white",
            "showbackground": true,
            "ticks": "",
            "zerolinecolor": "white"
           },
           "zaxis": {
            "backgroundcolor": "#E5ECF6",
            "gridcolor": "white",
            "gridwidth": 2,
            "linecolor": "white",
            "showbackground": true,
            "ticks": "",
            "zerolinecolor": "white"
           }
          },
          "shapedefaults": {
           "line": {
            "color": "#2a3f5f"
           }
          },
          "ternary": {
           "aaxis": {
            "gridcolor": "white",
            "linecolor": "white",
            "ticks": ""
           },
           "baxis": {
            "gridcolor": "white",
            "linecolor": "white",
            "ticks": ""
           },
           "bgcolor": "#E5ECF6",
           "caxis": {
            "gridcolor": "white",
            "linecolor": "white",
            "ticks": ""
           }
          },
          "title": {
           "x": 0.05
          },
          "xaxis": {
           "automargin": true,
           "gridcolor": "white",
           "linecolor": "white",
           "ticks": "",
           "title": {
            "standoff": 15
           },
           "zerolinecolor": "white",
           "zerolinewidth": 2
          },
          "yaxis": {
           "automargin": true,
           "gridcolor": "white",
           "linecolor": "white",
           "ticks": "",
           "title": {
            "standoff": 15
           },
           "zerolinecolor": "white",
           "zerolinewidth": 2
          }
         }
        },
        "title": {
         "text": "Subreddits with most comments having the term 'covid' in the last 48h"
        },
        "width": 800,
        "xaxis": {
         "anchor": "y",
         "domain": [
          0,
          1
         ],
         "title": {
          "text": "Subreddits"
         }
        },
        "yaxis": {
         "anchor": "x",
         "domain": [
          0,
          1
         ],
         "title": {
          "text": "Number of comments"
         }
        }
       }
      },
      "text/html": [
       "<div>\n",
       "        \n",
       "        \n",
       "            <div id=\"940a8031-e286-415b-85d2-3e486e26297c\" class=\"plotly-graph-div\" style=\"height:500px; width:800px;\"></div>\n",
       "            <script type=\"text/javascript\">\n",
       "                require([\"plotly\"], function(Plotly) {\n",
       "                    window.PLOTLYENV=window.PLOTLYENV || {};\n",
       "                    \n",
       "                if (document.getElementById(\"940a8031-e286-415b-85d2-3e486e26297c\")) {\n",
       "                    Plotly.newPlot(\n",
       "                        '940a8031-e286-415b-85d2-3e486e26297c',\n",
       "                        [{\"alignmentgroup\": \"True\", \"hoverlabel\": {\"namelength\": 0}, \"hovertemplate\": \"Subreddits=%{x}<br>Number of comments=%{y}\", \"legendgroup\": \"\", \"marker\": {\"color\": \"blueviolet\"}, \"name\": \"\", \"offsetgroup\": \"\", \"orientation\": \"v\", \"showlegend\": false, \"textposition\": \"auto\", \"type\": \"bar\", \"x\": [\"politics\", \"news\", \"AmItheAsshole\", \"CollegeBasketball\", \"conspiracy\", \"mildlyinfuriating\", \"MoaiGreddit\", \"memes\", \"Coronavirus\", \"AskReddit\"], \"xaxis\": \"x\", \"y\": [5, 4, 4, 3, 3, 2, 2, 2, 2, 2], \"yaxis\": \"y\"}],\n",
       "                        {\"barmode\": \"relative\", \"height\": 500, \"legend\": {\"tracegroupgap\": 0}, \"template\": {\"data\": {\"bar\": [{\"error_x\": {\"color\": \"#2a3f5f\"}, \"error_y\": {\"color\": \"#2a3f5f\"}, \"marker\": {\"line\": {\"color\": \"#E5ECF6\", \"width\": 0.5}}, \"type\": \"bar\"}], \"barpolar\": [{\"marker\": {\"line\": {\"color\": \"#E5ECF6\", \"width\": 0.5}}, \"type\": \"barpolar\"}], \"carpet\": [{\"aaxis\": {\"endlinecolor\": \"#2a3f5f\", \"gridcolor\": \"white\", \"linecolor\": \"white\", \"minorgridcolor\": \"white\", \"startlinecolor\": \"#2a3f5f\"}, \"baxis\": {\"endlinecolor\": \"#2a3f5f\", \"gridcolor\": \"white\", \"linecolor\": \"white\", \"minorgridcolor\": \"white\", \"startlinecolor\": \"#2a3f5f\"}, \"type\": \"carpet\"}], \"choropleth\": [{\"colorbar\": {\"outlinewidth\": 0, \"ticks\": \"\"}, \"type\": \"choropleth\"}], \"contour\": [{\"colorbar\": {\"outlinewidth\": 0, \"ticks\": \"\"}, \"colorscale\": [[0.0, \"#0d0887\"], [0.1111111111111111, \"#46039f\"], [0.2222222222222222, \"#7201a8\"], [0.3333333333333333, \"#9c179e\"], [0.4444444444444444, \"#bd3786\"], [0.5555555555555556, \"#d8576b\"], [0.6666666666666666, \"#ed7953\"], [0.7777777777777778, \"#fb9f3a\"], [0.8888888888888888, \"#fdca26\"], [1.0, \"#f0f921\"]], \"type\": \"contour\"}], \"contourcarpet\": [{\"colorbar\": {\"outlinewidth\": 0, \"ticks\": \"\"}, \"type\": \"contourcarpet\"}], \"heatmap\": [{\"colorbar\": {\"outlinewidth\": 0, \"ticks\": \"\"}, \"colorscale\": [[0.0, \"#0d0887\"], [0.1111111111111111, \"#46039f\"], [0.2222222222222222, \"#7201a8\"], [0.3333333333333333, \"#9c179e\"], [0.4444444444444444, \"#bd3786\"], [0.5555555555555556, \"#d8576b\"], [0.6666666666666666, \"#ed7953\"], [0.7777777777777778, \"#fb9f3a\"], [0.8888888888888888, \"#fdca26\"], [1.0, \"#f0f921\"]], \"type\": \"heatmap\"}], \"heatmapgl\": [{\"colorbar\": {\"outlinewidth\": 0, \"ticks\": \"\"}, \"colorscale\": [[0.0, \"#0d0887\"], [0.1111111111111111, \"#46039f\"], [0.2222222222222222, \"#7201a8\"], [0.3333333333333333, \"#9c179e\"], [0.4444444444444444, \"#bd3786\"], [0.5555555555555556, \"#d8576b\"], [0.6666666666666666, \"#ed7953\"], [0.7777777777777778, \"#fb9f3a\"], [0.8888888888888888, \"#fdca26\"], [1.0, \"#f0f921\"]], \"type\": \"heatmapgl\"}], \"histogram\": [{\"marker\": {\"colorbar\": {\"outlinewidth\": 0, \"ticks\": \"\"}}, \"type\": \"histogram\"}], \"histogram2d\": [{\"colorbar\": {\"outlinewidth\": 0, \"ticks\": \"\"}, \"colorscale\": [[0.0, \"#0d0887\"], [0.1111111111111111, \"#46039f\"], [0.2222222222222222, \"#7201a8\"], [0.3333333333333333, \"#9c179e\"], [0.4444444444444444, \"#bd3786\"], [0.5555555555555556, \"#d8576b\"], [0.6666666666666666, \"#ed7953\"], [0.7777777777777778, \"#fb9f3a\"], [0.8888888888888888, \"#fdca26\"], [1.0, \"#f0f921\"]], \"type\": \"histogram2d\"}], \"histogram2dcontour\": [{\"colorbar\": {\"outlinewidth\": 0, \"ticks\": \"\"}, \"colorscale\": [[0.0, \"#0d0887\"], [0.1111111111111111, \"#46039f\"], [0.2222222222222222, \"#7201a8\"], [0.3333333333333333, \"#9c179e\"], [0.4444444444444444, \"#bd3786\"], [0.5555555555555556, \"#d8576b\"], [0.6666666666666666, \"#ed7953\"], [0.7777777777777778, \"#fb9f3a\"], [0.8888888888888888, \"#fdca26\"], [1.0, \"#f0f921\"]], \"type\": \"histogram2dcontour\"}], \"mesh3d\": [{\"colorbar\": {\"outlinewidth\": 0, \"ticks\": \"\"}, \"type\": \"mesh3d\"}], \"parcoords\": [{\"line\": {\"colorbar\": {\"outlinewidth\": 0, \"ticks\": \"\"}}, \"type\": \"parcoords\"}], \"pie\": [{\"automargin\": true, \"type\": \"pie\"}], \"scatter\": [{\"marker\": {\"colorbar\": {\"outlinewidth\": 0, \"ticks\": \"\"}}, \"type\": \"scatter\"}], \"scatter3d\": [{\"line\": {\"colorbar\": {\"outlinewidth\": 0, \"ticks\": \"\"}}, \"marker\": {\"colorbar\": {\"outlinewidth\": 0, \"ticks\": \"\"}}, \"type\": \"scatter3d\"}], \"scattercarpet\": [{\"marker\": {\"colorbar\": {\"outlinewidth\": 0, \"ticks\": \"\"}}, \"type\": \"scattercarpet\"}], \"scattergeo\": [{\"marker\": {\"colorbar\": {\"outlinewidth\": 0, \"ticks\": \"\"}}, \"type\": \"scattergeo\"}], \"scattergl\": [{\"marker\": {\"colorbar\": {\"outlinewidth\": 0, \"ticks\": \"\"}}, \"type\": \"scattergl\"}], \"scattermapbox\": [{\"marker\": {\"colorbar\": {\"outlinewidth\": 0, \"ticks\": \"\"}}, \"type\": \"scattermapbox\"}], \"scatterpolar\": [{\"marker\": {\"colorbar\": {\"outlinewidth\": 0, \"ticks\": \"\"}}, \"type\": \"scatterpolar\"}], \"scatterpolargl\": [{\"marker\": {\"colorbar\": {\"outlinewidth\": 0, \"ticks\": \"\"}}, \"type\": \"scatterpolargl\"}], \"scatterternary\": [{\"marker\": {\"colorbar\": {\"outlinewidth\": 0, \"ticks\": \"\"}}, \"type\": \"scatterternary\"}], \"surface\": [{\"colorbar\": {\"outlinewidth\": 0, \"ticks\": \"\"}, \"colorscale\": [[0.0, \"#0d0887\"], [0.1111111111111111, \"#46039f\"], [0.2222222222222222, \"#7201a8\"], [0.3333333333333333, \"#9c179e\"], [0.4444444444444444, \"#bd3786\"], [0.5555555555555556, \"#d8576b\"], [0.6666666666666666, \"#ed7953\"], [0.7777777777777778, \"#fb9f3a\"], [0.8888888888888888, \"#fdca26\"], [1.0, \"#f0f921\"]], \"type\": \"surface\"}], \"table\": [{\"cells\": {\"fill\": {\"color\": \"#EBF0F8\"}, \"line\": {\"color\": \"white\"}}, \"header\": {\"fill\": {\"color\": \"#C8D4E3\"}, \"line\": {\"color\": \"white\"}}, \"type\": \"table\"}]}, \"layout\": {\"annotationdefaults\": {\"arrowcolor\": \"#2a3f5f\", \"arrowhead\": 0, \"arrowwidth\": 1}, \"coloraxis\": {\"colorbar\": {\"outlinewidth\": 0, \"ticks\": \"\"}}, \"colorscale\": {\"diverging\": [[0, \"#8e0152\"], [0.1, \"#c51b7d\"], [0.2, \"#de77ae\"], [0.3, \"#f1b6da\"], [0.4, \"#fde0ef\"], [0.5, \"#f7f7f7\"], [0.6, \"#e6f5d0\"], [0.7, \"#b8e186\"], [0.8, \"#7fbc41\"], [0.9, \"#4d9221\"], [1, \"#276419\"]], \"sequential\": [[0.0, \"#0d0887\"], [0.1111111111111111, \"#46039f\"], [0.2222222222222222, \"#7201a8\"], [0.3333333333333333, \"#9c179e\"], [0.4444444444444444, \"#bd3786\"], [0.5555555555555556, \"#d8576b\"], [0.6666666666666666, \"#ed7953\"], [0.7777777777777778, \"#fb9f3a\"], [0.8888888888888888, \"#fdca26\"], [1.0, \"#f0f921\"]], \"sequentialminus\": [[0.0, \"#0d0887\"], [0.1111111111111111, \"#46039f\"], [0.2222222222222222, \"#7201a8\"], [0.3333333333333333, \"#9c179e\"], [0.4444444444444444, \"#bd3786\"], [0.5555555555555556, \"#d8576b\"], [0.6666666666666666, \"#ed7953\"], [0.7777777777777778, \"#fb9f3a\"], [0.8888888888888888, \"#fdca26\"], [1.0, \"#f0f921\"]]}, \"colorway\": [\"#636efa\", \"#EF553B\", \"#00cc96\", \"#ab63fa\", \"#FFA15A\", \"#19d3f3\", \"#FF6692\", \"#B6E880\", \"#FF97FF\", \"#FECB52\"], \"font\": {\"color\": \"#2a3f5f\"}, \"geo\": {\"bgcolor\": \"white\", \"lakecolor\": \"white\", \"landcolor\": \"#E5ECF6\", \"showlakes\": true, \"showland\": true, \"subunitcolor\": \"white\"}, \"hoverlabel\": {\"align\": \"left\"}, \"hovermode\": \"closest\", \"mapbox\": {\"style\": \"light\"}, \"paper_bgcolor\": \"white\", \"plot_bgcolor\": \"#E5ECF6\", \"polar\": {\"angularaxis\": {\"gridcolor\": \"white\", \"linecolor\": \"white\", \"ticks\": \"\"}, \"bgcolor\": \"#E5ECF6\", \"radialaxis\": {\"gridcolor\": \"white\", \"linecolor\": \"white\", \"ticks\": \"\"}}, \"scene\": {\"xaxis\": {\"backgroundcolor\": \"#E5ECF6\", \"gridcolor\": \"white\", \"gridwidth\": 2, \"linecolor\": \"white\", \"showbackground\": true, \"ticks\": \"\", \"zerolinecolor\": \"white\"}, \"yaxis\": {\"backgroundcolor\": \"#E5ECF6\", \"gridcolor\": \"white\", \"gridwidth\": 2, \"linecolor\": \"white\", \"showbackground\": true, \"ticks\": \"\", \"zerolinecolor\": \"white\"}, \"zaxis\": {\"backgroundcolor\": \"#E5ECF6\", \"gridcolor\": \"white\", \"gridwidth\": 2, \"linecolor\": \"white\", \"showbackground\": true, \"ticks\": \"\", \"zerolinecolor\": \"white\"}}, \"shapedefaults\": {\"line\": {\"color\": \"#2a3f5f\"}}, \"ternary\": {\"aaxis\": {\"gridcolor\": \"white\", \"linecolor\": \"white\", \"ticks\": \"\"}, \"baxis\": {\"gridcolor\": \"white\", \"linecolor\": \"white\", \"ticks\": \"\"}, \"bgcolor\": \"#E5ECF6\", \"caxis\": {\"gridcolor\": \"white\", \"linecolor\": \"white\", \"ticks\": \"\"}}, \"title\": {\"x\": 0.05}, \"xaxis\": {\"automargin\": true, \"gridcolor\": \"white\", \"linecolor\": \"white\", \"ticks\": \"\", \"title\": {\"standoff\": 15}, \"zerolinecolor\": \"white\", \"zerolinewidth\": 2}, \"yaxis\": {\"automargin\": true, \"gridcolor\": \"white\", \"linecolor\": \"white\", \"ticks\": \"\", \"title\": {\"standoff\": 15}, \"zerolinecolor\": \"white\", \"zerolinewidth\": 2}}}, \"title\": {\"text\": \"Subreddits with most comments having the term 'covid' in the last 48h\"}, \"width\": 800, \"xaxis\": {\"anchor\": \"y\", \"domain\": [0.0, 1.0], \"title\": {\"text\": \"Subreddits\"}}, \"yaxis\": {\"anchor\": \"x\", \"domain\": [0.0, 1.0], \"title\": {\"text\": \"Number of comments\"}}},\n",
       "                        {\"responsive\": true}\n",
       "                    ).then(function(){\n",
       "                            \n",
       "var gd = document.getElementById('940a8031-e286-415b-85d2-3e486e26297c');\n",
       "var x = new MutationObserver(function (mutations, observer) {{\n",
       "        var display = window.getComputedStyle(gd).display;\n",
       "        if (!display || display === 'none') {{\n",
       "            console.log([gd, 'removed!']);\n",
       "            Plotly.purge(gd);\n",
       "            observer.disconnect();\n",
       "        }}\n",
       "}});\n",
       "\n",
       "// Listen for the removal of the full notebook cells\n",
       "var notebookContainer = gd.closest('#notebook-container');\n",
       "if (notebookContainer) {{\n",
       "    x.observe(notebookContainer, {childList: true});\n",
       "}}\n",
       "\n",
       "// Listen for the clearing of the current output cell\n",
       "var outputEl = gd.closest('.output');\n",
       "if (outputEl) {{\n",
       "    x.observe(outputEl, {childList: true});\n",
       "}}\n",
       "\n",
       "                        })\n",
       "                };\n",
       "                });\n",
       "            </script>\n",
       "        </div>"
      ]
     },
     "metadata": {},
     "output_type": "display_data"
    }
   ],
   "source": [
    "data = get_reddit_data(data_type=\"comment\", q=TERM_OF_INTEREST, after=TIMEFRAME, size= SIZE, aggs=\"subreddit\").get(\"data\")\n",
    "\n",
    "df = pandas.DataFrame(data)[\"subreddit\"].value_counts()[0:10]\n",
    "x = df.keys()\n",
    "y = df.values\n",
    "\n",
    "px.bar(df,\n",
    "       x=x,\n",
    "       y=y,\n",
    "       title=f\"Subreddits with most comments having the term '{TERM_OF_INTEREST}' in the last {TIMEFRAME}\",\n",
    "       labels={\"x\": \"Subreddits\", \"y\": \"Number of comments\"},\n",
    "       color_discrete_sequence=[COMMENT_COLOR],\n",
    "       height=500,\n",
    "       width=800)"
   ]
  },
  {
   "cell_type": "markdown",
   "metadata": {},
   "source": [
    "## Submission activity <a class=\"anchor\" id=\"2\"></a>"
   ]
  },
  {
   "cell_type": "code",
   "execution_count": 79,
   "metadata": {},
   "outputs": [
    {
     "data": {
      "application/vnd.plotly.v1+json": {
       "config": {
        "plotlyServerURL": "https://plot.ly"
       },
       "data": [
        {
         "alignmentgroup": "True",
         "hoverlabel": {
          "namelength": 0
         },
         "hovertemplate": "Subreddits=%{x}<br>Number of submissions=%{y}",
         "legendgroup": "",
         "marker": {
          "color": "blueviolet"
         },
         "name": "",
         "offsetgroup": "",
         "orientation": "v",
         "showlegend": false,
         "textposition": "auto",
         "type": "bar",
         "x": [
          "u_toronto_news",
          "MerdeInRealFrance",
          "AutoNewspaper",
          "dirtyphr4r",
          "gonewildstories",
          "FreeKarma4U",
          "u_Traditional-Gain6248",
          "niuz",
          "peyups",
          "RandomActsOfBlowJob"
         ],
         "xaxis": "x",
         "y": [
          36,
          4,
          3,
          2,
          1,
          1,
          1,
          1,
          1,
          1
         ],
         "yaxis": "y"
        }
       ],
       "layout": {
        "barmode": "relative",
        "height": 500,
        "legend": {
         "tracegroupgap": 0
        },
        "template": {
         "data": {
          "bar": [
           {
            "error_x": {
             "color": "#2a3f5f"
            },
            "error_y": {
             "color": "#2a3f5f"
            },
            "marker": {
             "line": {
              "color": "#E5ECF6",
              "width": 0.5
             }
            },
            "type": "bar"
           }
          ],
          "barpolar": [
           {
            "marker": {
             "line": {
              "color": "#E5ECF6",
              "width": 0.5
             }
            },
            "type": "barpolar"
           }
          ],
          "carpet": [
           {
            "aaxis": {
             "endlinecolor": "#2a3f5f",
             "gridcolor": "white",
             "linecolor": "white",
             "minorgridcolor": "white",
             "startlinecolor": "#2a3f5f"
            },
            "baxis": {
             "endlinecolor": "#2a3f5f",
             "gridcolor": "white",
             "linecolor": "white",
             "minorgridcolor": "white",
             "startlinecolor": "#2a3f5f"
            },
            "type": "carpet"
           }
          ],
          "choropleth": [
           {
            "colorbar": {
             "outlinewidth": 0,
             "ticks": ""
            },
            "type": "choropleth"
           }
          ],
          "contour": [
           {
            "colorbar": {
             "outlinewidth": 0,
             "ticks": ""
            },
            "colorscale": [
             [
              0,
              "#0d0887"
             ],
             [
              0.1111111111111111,
              "#46039f"
             ],
             [
              0.2222222222222222,
              "#7201a8"
             ],
             [
              0.3333333333333333,
              "#9c179e"
             ],
             [
              0.4444444444444444,
              "#bd3786"
             ],
             [
              0.5555555555555556,
              "#d8576b"
             ],
             [
              0.6666666666666666,
              "#ed7953"
             ],
             [
              0.7777777777777778,
              "#fb9f3a"
             ],
             [
              0.8888888888888888,
              "#fdca26"
             ],
             [
              1,
              "#f0f921"
             ]
            ],
            "type": "contour"
           }
          ],
          "contourcarpet": [
           {
            "colorbar": {
             "outlinewidth": 0,
             "ticks": ""
            },
            "type": "contourcarpet"
           }
          ],
          "heatmap": [
           {
            "colorbar": {
             "outlinewidth": 0,
             "ticks": ""
            },
            "colorscale": [
             [
              0,
              "#0d0887"
             ],
             [
              0.1111111111111111,
              "#46039f"
             ],
             [
              0.2222222222222222,
              "#7201a8"
             ],
             [
              0.3333333333333333,
              "#9c179e"
             ],
             [
              0.4444444444444444,
              "#bd3786"
             ],
             [
              0.5555555555555556,
              "#d8576b"
             ],
             [
              0.6666666666666666,
              "#ed7953"
             ],
             [
              0.7777777777777778,
              "#fb9f3a"
             ],
             [
              0.8888888888888888,
              "#fdca26"
             ],
             [
              1,
              "#f0f921"
             ]
            ],
            "type": "heatmap"
           }
          ],
          "heatmapgl": [
           {
            "colorbar": {
             "outlinewidth": 0,
             "ticks": ""
            },
            "colorscale": [
             [
              0,
              "#0d0887"
             ],
             [
              0.1111111111111111,
              "#46039f"
             ],
             [
              0.2222222222222222,
              "#7201a8"
             ],
             [
              0.3333333333333333,
              "#9c179e"
             ],
             [
              0.4444444444444444,
              "#bd3786"
             ],
             [
              0.5555555555555556,
              "#d8576b"
             ],
             [
              0.6666666666666666,
              "#ed7953"
             ],
             [
              0.7777777777777778,
              "#fb9f3a"
             ],
             [
              0.8888888888888888,
              "#fdca26"
             ],
             [
              1,
              "#f0f921"
             ]
            ],
            "type": "heatmapgl"
           }
          ],
          "histogram": [
           {
            "marker": {
             "colorbar": {
              "outlinewidth": 0,
              "ticks": ""
             }
            },
            "type": "histogram"
           }
          ],
          "histogram2d": [
           {
            "colorbar": {
             "outlinewidth": 0,
             "ticks": ""
            },
            "colorscale": [
             [
              0,
              "#0d0887"
             ],
             [
              0.1111111111111111,
              "#46039f"
             ],
             [
              0.2222222222222222,
              "#7201a8"
             ],
             [
              0.3333333333333333,
              "#9c179e"
             ],
             [
              0.4444444444444444,
              "#bd3786"
             ],
             [
              0.5555555555555556,
              "#d8576b"
             ],
             [
              0.6666666666666666,
              "#ed7953"
             ],
             [
              0.7777777777777778,
              "#fb9f3a"
             ],
             [
              0.8888888888888888,
              "#fdca26"
             ],
             [
              1,
              "#f0f921"
             ]
            ],
            "type": "histogram2d"
           }
          ],
          "histogram2dcontour": [
           {
            "colorbar": {
             "outlinewidth": 0,
             "ticks": ""
            },
            "colorscale": [
             [
              0,
              "#0d0887"
             ],
             [
              0.1111111111111111,
              "#46039f"
             ],
             [
              0.2222222222222222,
              "#7201a8"
             ],
             [
              0.3333333333333333,
              "#9c179e"
             ],
             [
              0.4444444444444444,
              "#bd3786"
             ],
             [
              0.5555555555555556,
              "#d8576b"
             ],
             [
              0.6666666666666666,
              "#ed7953"
             ],
             [
              0.7777777777777778,
              "#fb9f3a"
             ],
             [
              0.8888888888888888,
              "#fdca26"
             ],
             [
              1,
              "#f0f921"
             ]
            ],
            "type": "histogram2dcontour"
           }
          ],
          "mesh3d": [
           {
            "colorbar": {
             "outlinewidth": 0,
             "ticks": ""
            },
            "type": "mesh3d"
           }
          ],
          "parcoords": [
           {
            "line": {
             "colorbar": {
              "outlinewidth": 0,
              "ticks": ""
             }
            },
            "type": "parcoords"
           }
          ],
          "pie": [
           {
            "automargin": true,
            "type": "pie"
           }
          ],
          "scatter": [
           {
            "marker": {
             "colorbar": {
              "outlinewidth": 0,
              "ticks": ""
             }
            },
            "type": "scatter"
           }
          ],
          "scatter3d": [
           {
            "line": {
             "colorbar": {
              "outlinewidth": 0,
              "ticks": ""
             }
            },
            "marker": {
             "colorbar": {
              "outlinewidth": 0,
              "ticks": ""
             }
            },
            "type": "scatter3d"
           }
          ],
          "scattercarpet": [
           {
            "marker": {
             "colorbar": {
              "outlinewidth": 0,
              "ticks": ""
             }
            },
            "type": "scattercarpet"
           }
          ],
          "scattergeo": [
           {
            "marker": {
             "colorbar": {
              "outlinewidth": 0,
              "ticks": ""
             }
            },
            "type": "scattergeo"
           }
          ],
          "scattergl": [
           {
            "marker": {
             "colorbar": {
              "outlinewidth": 0,
              "ticks": ""
             }
            },
            "type": "scattergl"
           }
          ],
          "scattermapbox": [
           {
            "marker": {
             "colorbar": {
              "outlinewidth": 0,
              "ticks": ""
             }
            },
            "type": "scattermapbox"
           }
          ],
          "scatterpolar": [
           {
            "marker": {
             "colorbar": {
              "outlinewidth": 0,
              "ticks": ""
             }
            },
            "type": "scatterpolar"
           }
          ],
          "scatterpolargl": [
           {
            "marker": {
             "colorbar": {
              "outlinewidth": 0,
              "ticks": ""
             }
            },
            "type": "scatterpolargl"
           }
          ],
          "scatterternary": [
           {
            "marker": {
             "colorbar": {
              "outlinewidth": 0,
              "ticks": ""
             }
            },
            "type": "scatterternary"
           }
          ],
          "surface": [
           {
            "colorbar": {
             "outlinewidth": 0,
             "ticks": ""
            },
            "colorscale": [
             [
              0,
              "#0d0887"
             ],
             [
              0.1111111111111111,
              "#46039f"
             ],
             [
              0.2222222222222222,
              "#7201a8"
             ],
             [
              0.3333333333333333,
              "#9c179e"
             ],
             [
              0.4444444444444444,
              "#bd3786"
             ],
             [
              0.5555555555555556,
              "#d8576b"
             ],
             [
              0.6666666666666666,
              "#ed7953"
             ],
             [
              0.7777777777777778,
              "#fb9f3a"
             ],
             [
              0.8888888888888888,
              "#fdca26"
             ],
             [
              1,
              "#f0f921"
             ]
            ],
            "type": "surface"
           }
          ],
          "table": [
           {
            "cells": {
             "fill": {
              "color": "#EBF0F8"
             },
             "line": {
              "color": "white"
             }
            },
            "header": {
             "fill": {
              "color": "#C8D4E3"
             },
             "line": {
              "color": "white"
             }
            },
            "type": "table"
           }
          ]
         },
         "layout": {
          "annotationdefaults": {
           "arrowcolor": "#2a3f5f",
           "arrowhead": 0,
           "arrowwidth": 1
          },
          "coloraxis": {
           "colorbar": {
            "outlinewidth": 0,
            "ticks": ""
           }
          },
          "colorscale": {
           "diverging": [
            [
             0,
             "#8e0152"
            ],
            [
             0.1,
             "#c51b7d"
            ],
            [
             0.2,
             "#de77ae"
            ],
            [
             0.3,
             "#f1b6da"
            ],
            [
             0.4,
             "#fde0ef"
            ],
            [
             0.5,
             "#f7f7f7"
            ],
            [
             0.6,
             "#e6f5d0"
            ],
            [
             0.7,
             "#b8e186"
            ],
            [
             0.8,
             "#7fbc41"
            ],
            [
             0.9,
             "#4d9221"
            ],
            [
             1,
             "#276419"
            ]
           ],
           "sequential": [
            [
             0,
             "#0d0887"
            ],
            [
             0.1111111111111111,
             "#46039f"
            ],
            [
             0.2222222222222222,
             "#7201a8"
            ],
            [
             0.3333333333333333,
             "#9c179e"
            ],
            [
             0.4444444444444444,
             "#bd3786"
            ],
            [
             0.5555555555555556,
             "#d8576b"
            ],
            [
             0.6666666666666666,
             "#ed7953"
            ],
            [
             0.7777777777777778,
             "#fb9f3a"
            ],
            [
             0.8888888888888888,
             "#fdca26"
            ],
            [
             1,
             "#f0f921"
            ]
           ],
           "sequentialminus": [
            [
             0,
             "#0d0887"
            ],
            [
             0.1111111111111111,
             "#46039f"
            ],
            [
             0.2222222222222222,
             "#7201a8"
            ],
            [
             0.3333333333333333,
             "#9c179e"
            ],
            [
             0.4444444444444444,
             "#bd3786"
            ],
            [
             0.5555555555555556,
             "#d8576b"
            ],
            [
             0.6666666666666666,
             "#ed7953"
            ],
            [
             0.7777777777777778,
             "#fb9f3a"
            ],
            [
             0.8888888888888888,
             "#fdca26"
            ],
            [
             1,
             "#f0f921"
            ]
           ]
          },
          "colorway": [
           "#636efa",
           "#EF553B",
           "#00cc96",
           "#ab63fa",
           "#FFA15A",
           "#19d3f3",
           "#FF6692",
           "#B6E880",
           "#FF97FF",
           "#FECB52"
          ],
          "font": {
           "color": "#2a3f5f"
          },
          "geo": {
           "bgcolor": "white",
           "lakecolor": "white",
           "landcolor": "#E5ECF6",
           "showlakes": true,
           "showland": true,
           "subunitcolor": "white"
          },
          "hoverlabel": {
           "align": "left"
          },
          "hovermode": "closest",
          "mapbox": {
           "style": "light"
          },
          "paper_bgcolor": "white",
          "plot_bgcolor": "#E5ECF6",
          "polar": {
           "angularaxis": {
            "gridcolor": "white",
            "linecolor": "white",
            "ticks": ""
           },
           "bgcolor": "#E5ECF6",
           "radialaxis": {
            "gridcolor": "white",
            "linecolor": "white",
            "ticks": ""
           }
          },
          "scene": {
           "xaxis": {
            "backgroundcolor": "#E5ECF6",
            "gridcolor": "white",
            "gridwidth": 2,
            "linecolor": "white",
            "showbackground": true,
            "ticks": "",
            "zerolinecolor": "white"
           },
           "yaxis": {
            "backgroundcolor": "#E5ECF6",
            "gridcolor": "white",
            "gridwidth": 2,
            "linecolor": "white",
            "showbackground": true,
            "ticks": "",
            "zerolinecolor": "white"
           },
           "zaxis": {
            "backgroundcolor": "#E5ECF6",
            "gridcolor": "white",
            "gridwidth": 2,
            "linecolor": "white",
            "showbackground": true,
            "ticks": "",
            "zerolinecolor": "white"
           }
          },
          "shapedefaults": {
           "line": {
            "color": "#2a3f5f"
           }
          },
          "ternary": {
           "aaxis": {
            "gridcolor": "white",
            "linecolor": "white",
            "ticks": ""
           },
           "baxis": {
            "gridcolor": "white",
            "linecolor": "white",
            "ticks": ""
           },
           "bgcolor": "#E5ECF6",
           "caxis": {
            "gridcolor": "white",
            "linecolor": "white",
            "ticks": ""
           }
          },
          "title": {
           "x": 0.05
          },
          "xaxis": {
           "automargin": true,
           "gridcolor": "white",
           "linecolor": "white",
           "ticks": "",
           "title": {
            "standoff": 15
           },
           "zerolinecolor": "white",
           "zerolinewidth": 2
          },
          "yaxis": {
           "automargin": true,
           "gridcolor": "white",
           "linecolor": "white",
           "ticks": "",
           "title": {
            "standoff": 15
           },
           "zerolinecolor": "white",
           "zerolinewidth": 2
          }
         }
        },
        "title": {
         "text": "Subreddits with most submissions having the term 'covid' in the last 48h"
        },
        "width": 800,
        "xaxis": {
         "anchor": "y",
         "domain": [
          0,
          1
         ],
         "title": {
          "text": "Subreddits"
         }
        },
        "yaxis": {
         "anchor": "x",
         "domain": [
          0,
          1
         ],
         "title": {
          "text": "Number of submissions"
         }
        }
       }
      },
      "text/html": [
       "<div>\n",
       "        \n",
       "        \n",
       "            <div id=\"079d0e18-ba35-4690-8740-c35a09dc8516\" class=\"plotly-graph-div\" style=\"height:500px; width:800px;\"></div>\n",
       "            <script type=\"text/javascript\">\n",
       "                require([\"plotly\"], function(Plotly) {\n",
       "                    window.PLOTLYENV=window.PLOTLYENV || {};\n",
       "                    \n",
       "                if (document.getElementById(\"079d0e18-ba35-4690-8740-c35a09dc8516\")) {\n",
       "                    Plotly.newPlot(\n",
       "                        '079d0e18-ba35-4690-8740-c35a09dc8516',\n",
       "                        [{\"alignmentgroup\": \"True\", \"hoverlabel\": {\"namelength\": 0}, \"hovertemplate\": \"Subreddits=%{x}<br>Number of submissions=%{y}\", \"legendgroup\": \"\", \"marker\": {\"color\": \"blueviolet\"}, \"name\": \"\", \"offsetgroup\": \"\", \"orientation\": \"v\", \"showlegend\": false, \"textposition\": \"auto\", \"type\": \"bar\", \"x\": [\"u_toronto_news\", \"MerdeInRealFrance\", \"AutoNewspaper\", \"dirtyphr4r\", \"gonewildstories\", \"FreeKarma4U\", \"u_Traditional-Gain6248\", \"niuz\", \"peyups\", \"RandomActsOfBlowJob\"], \"xaxis\": \"x\", \"y\": [36, 4, 3, 2, 1, 1, 1, 1, 1, 1], \"yaxis\": \"y\"}],\n",
       "                        {\"barmode\": \"relative\", \"height\": 500, \"legend\": {\"tracegroupgap\": 0}, \"template\": {\"data\": {\"bar\": [{\"error_x\": {\"color\": \"#2a3f5f\"}, \"error_y\": {\"color\": \"#2a3f5f\"}, \"marker\": {\"line\": {\"color\": \"#E5ECF6\", \"width\": 0.5}}, \"type\": \"bar\"}], \"barpolar\": [{\"marker\": {\"line\": {\"color\": \"#E5ECF6\", \"width\": 0.5}}, \"type\": \"barpolar\"}], \"carpet\": [{\"aaxis\": {\"endlinecolor\": \"#2a3f5f\", \"gridcolor\": \"white\", \"linecolor\": \"white\", \"minorgridcolor\": \"white\", \"startlinecolor\": \"#2a3f5f\"}, \"baxis\": {\"endlinecolor\": \"#2a3f5f\", \"gridcolor\": \"white\", \"linecolor\": \"white\", \"minorgridcolor\": \"white\", \"startlinecolor\": \"#2a3f5f\"}, \"type\": \"carpet\"}], \"choropleth\": [{\"colorbar\": {\"outlinewidth\": 0, \"ticks\": \"\"}, \"type\": \"choropleth\"}], \"contour\": [{\"colorbar\": {\"outlinewidth\": 0, \"ticks\": \"\"}, \"colorscale\": [[0.0, \"#0d0887\"], [0.1111111111111111, \"#46039f\"], [0.2222222222222222, \"#7201a8\"], [0.3333333333333333, \"#9c179e\"], [0.4444444444444444, \"#bd3786\"], [0.5555555555555556, \"#d8576b\"], [0.6666666666666666, \"#ed7953\"], [0.7777777777777778, \"#fb9f3a\"], [0.8888888888888888, \"#fdca26\"], [1.0, \"#f0f921\"]], \"type\": \"contour\"}], \"contourcarpet\": [{\"colorbar\": {\"outlinewidth\": 0, \"ticks\": \"\"}, \"type\": \"contourcarpet\"}], \"heatmap\": [{\"colorbar\": {\"outlinewidth\": 0, \"ticks\": \"\"}, \"colorscale\": [[0.0, \"#0d0887\"], [0.1111111111111111, \"#46039f\"], [0.2222222222222222, \"#7201a8\"], [0.3333333333333333, \"#9c179e\"], [0.4444444444444444, \"#bd3786\"], [0.5555555555555556, \"#d8576b\"], [0.6666666666666666, \"#ed7953\"], [0.7777777777777778, \"#fb9f3a\"], [0.8888888888888888, \"#fdca26\"], [1.0, \"#f0f921\"]], \"type\": \"heatmap\"}], \"heatmapgl\": [{\"colorbar\": {\"outlinewidth\": 0, \"ticks\": \"\"}, \"colorscale\": [[0.0, \"#0d0887\"], [0.1111111111111111, \"#46039f\"], [0.2222222222222222, \"#7201a8\"], [0.3333333333333333, \"#9c179e\"], [0.4444444444444444, \"#bd3786\"], [0.5555555555555556, \"#d8576b\"], [0.6666666666666666, \"#ed7953\"], [0.7777777777777778, \"#fb9f3a\"], [0.8888888888888888, \"#fdca26\"], [1.0, \"#f0f921\"]], \"type\": \"heatmapgl\"}], \"histogram\": [{\"marker\": {\"colorbar\": {\"outlinewidth\": 0, \"ticks\": \"\"}}, \"type\": \"histogram\"}], \"histogram2d\": [{\"colorbar\": {\"outlinewidth\": 0, \"ticks\": \"\"}, \"colorscale\": [[0.0, \"#0d0887\"], [0.1111111111111111, \"#46039f\"], [0.2222222222222222, \"#7201a8\"], [0.3333333333333333, \"#9c179e\"], [0.4444444444444444, \"#bd3786\"], [0.5555555555555556, \"#d8576b\"], [0.6666666666666666, \"#ed7953\"], [0.7777777777777778, \"#fb9f3a\"], [0.8888888888888888, \"#fdca26\"], [1.0, \"#f0f921\"]], \"type\": \"histogram2d\"}], \"histogram2dcontour\": [{\"colorbar\": {\"outlinewidth\": 0, \"ticks\": \"\"}, \"colorscale\": [[0.0, \"#0d0887\"], [0.1111111111111111, \"#46039f\"], [0.2222222222222222, \"#7201a8\"], [0.3333333333333333, \"#9c179e\"], [0.4444444444444444, \"#bd3786\"], [0.5555555555555556, \"#d8576b\"], [0.6666666666666666, \"#ed7953\"], [0.7777777777777778, \"#fb9f3a\"], [0.8888888888888888, \"#fdca26\"], [1.0, \"#f0f921\"]], \"type\": \"histogram2dcontour\"}], \"mesh3d\": [{\"colorbar\": {\"outlinewidth\": 0, \"ticks\": \"\"}, \"type\": \"mesh3d\"}], \"parcoords\": [{\"line\": {\"colorbar\": {\"outlinewidth\": 0, \"ticks\": \"\"}}, \"type\": \"parcoords\"}], \"pie\": [{\"automargin\": true, \"type\": \"pie\"}], \"scatter\": [{\"marker\": {\"colorbar\": {\"outlinewidth\": 0, \"ticks\": \"\"}}, \"type\": \"scatter\"}], \"scatter3d\": [{\"line\": {\"colorbar\": {\"outlinewidth\": 0, \"ticks\": \"\"}}, \"marker\": {\"colorbar\": {\"outlinewidth\": 0, \"ticks\": \"\"}}, \"type\": \"scatter3d\"}], \"scattercarpet\": [{\"marker\": {\"colorbar\": {\"outlinewidth\": 0, \"ticks\": \"\"}}, \"type\": \"scattercarpet\"}], \"scattergeo\": [{\"marker\": {\"colorbar\": {\"outlinewidth\": 0, \"ticks\": \"\"}}, \"type\": \"scattergeo\"}], \"scattergl\": [{\"marker\": {\"colorbar\": {\"outlinewidth\": 0, \"ticks\": \"\"}}, \"type\": \"scattergl\"}], \"scattermapbox\": [{\"marker\": {\"colorbar\": {\"outlinewidth\": 0, \"ticks\": \"\"}}, \"type\": \"scattermapbox\"}], \"scatterpolar\": [{\"marker\": {\"colorbar\": {\"outlinewidth\": 0, \"ticks\": \"\"}}, \"type\": \"scatterpolar\"}], \"scatterpolargl\": [{\"marker\": {\"colorbar\": {\"outlinewidth\": 0, \"ticks\": \"\"}}, \"type\": \"scatterpolargl\"}], \"scatterternary\": [{\"marker\": {\"colorbar\": {\"outlinewidth\": 0, \"ticks\": \"\"}}, \"type\": \"scatterternary\"}], \"surface\": [{\"colorbar\": {\"outlinewidth\": 0, \"ticks\": \"\"}, \"colorscale\": [[0.0, \"#0d0887\"], [0.1111111111111111, \"#46039f\"], [0.2222222222222222, \"#7201a8\"], [0.3333333333333333, \"#9c179e\"], [0.4444444444444444, \"#bd3786\"], [0.5555555555555556, \"#d8576b\"], [0.6666666666666666, \"#ed7953\"], [0.7777777777777778, \"#fb9f3a\"], [0.8888888888888888, \"#fdca26\"], [1.0, \"#f0f921\"]], \"type\": \"surface\"}], \"table\": [{\"cells\": {\"fill\": {\"color\": \"#EBF0F8\"}, \"line\": {\"color\": \"white\"}}, \"header\": {\"fill\": {\"color\": \"#C8D4E3\"}, \"line\": {\"color\": \"white\"}}, \"type\": \"table\"}]}, \"layout\": {\"annotationdefaults\": {\"arrowcolor\": \"#2a3f5f\", \"arrowhead\": 0, \"arrowwidth\": 1}, \"coloraxis\": {\"colorbar\": {\"outlinewidth\": 0, \"ticks\": \"\"}}, \"colorscale\": {\"diverging\": [[0, \"#8e0152\"], [0.1, \"#c51b7d\"], [0.2, \"#de77ae\"], [0.3, \"#f1b6da\"], [0.4, \"#fde0ef\"], [0.5, \"#f7f7f7\"], [0.6, \"#e6f5d0\"], [0.7, \"#b8e186\"], [0.8, \"#7fbc41\"], [0.9, \"#4d9221\"], [1, \"#276419\"]], \"sequential\": [[0.0, \"#0d0887\"], [0.1111111111111111, \"#46039f\"], [0.2222222222222222, \"#7201a8\"], [0.3333333333333333, \"#9c179e\"], [0.4444444444444444, \"#bd3786\"], [0.5555555555555556, \"#d8576b\"], [0.6666666666666666, \"#ed7953\"], [0.7777777777777778, \"#fb9f3a\"], [0.8888888888888888, \"#fdca26\"], [1.0, \"#f0f921\"]], \"sequentialminus\": [[0.0, \"#0d0887\"], [0.1111111111111111, \"#46039f\"], [0.2222222222222222, \"#7201a8\"], [0.3333333333333333, \"#9c179e\"], [0.4444444444444444, \"#bd3786\"], [0.5555555555555556, \"#d8576b\"], [0.6666666666666666, \"#ed7953\"], [0.7777777777777778, \"#fb9f3a\"], [0.8888888888888888, \"#fdca26\"], [1.0, \"#f0f921\"]]}, \"colorway\": [\"#636efa\", \"#EF553B\", \"#00cc96\", \"#ab63fa\", \"#FFA15A\", \"#19d3f3\", \"#FF6692\", \"#B6E880\", \"#FF97FF\", \"#FECB52\"], \"font\": {\"color\": \"#2a3f5f\"}, \"geo\": {\"bgcolor\": \"white\", \"lakecolor\": \"white\", \"landcolor\": \"#E5ECF6\", \"showlakes\": true, \"showland\": true, \"subunitcolor\": \"white\"}, \"hoverlabel\": {\"align\": \"left\"}, \"hovermode\": \"closest\", \"mapbox\": {\"style\": \"light\"}, \"paper_bgcolor\": \"white\", \"plot_bgcolor\": \"#E5ECF6\", \"polar\": {\"angularaxis\": {\"gridcolor\": \"white\", \"linecolor\": \"white\", \"ticks\": \"\"}, \"bgcolor\": \"#E5ECF6\", \"radialaxis\": {\"gridcolor\": \"white\", \"linecolor\": \"white\", \"ticks\": \"\"}}, \"scene\": {\"xaxis\": {\"backgroundcolor\": \"#E5ECF6\", \"gridcolor\": \"white\", \"gridwidth\": 2, \"linecolor\": \"white\", \"showbackground\": true, \"ticks\": \"\", \"zerolinecolor\": \"white\"}, \"yaxis\": {\"backgroundcolor\": \"#E5ECF6\", \"gridcolor\": \"white\", \"gridwidth\": 2, \"linecolor\": \"white\", \"showbackground\": true, \"ticks\": \"\", \"zerolinecolor\": \"white\"}, \"zaxis\": {\"backgroundcolor\": \"#E5ECF6\", \"gridcolor\": \"white\", \"gridwidth\": 2, \"linecolor\": \"white\", \"showbackground\": true, \"ticks\": \"\", \"zerolinecolor\": \"white\"}}, \"shapedefaults\": {\"line\": {\"color\": \"#2a3f5f\"}}, \"ternary\": {\"aaxis\": {\"gridcolor\": \"white\", \"linecolor\": \"white\", \"ticks\": \"\"}, \"baxis\": {\"gridcolor\": \"white\", \"linecolor\": \"white\", \"ticks\": \"\"}, \"bgcolor\": \"#E5ECF6\", \"caxis\": {\"gridcolor\": \"white\", \"linecolor\": \"white\", \"ticks\": \"\"}}, \"title\": {\"x\": 0.05}, \"xaxis\": {\"automargin\": true, \"gridcolor\": \"white\", \"linecolor\": \"white\", \"ticks\": \"\", \"title\": {\"standoff\": 15}, \"zerolinecolor\": \"white\", \"zerolinewidth\": 2}, \"yaxis\": {\"automargin\": true, \"gridcolor\": \"white\", \"linecolor\": \"white\", \"ticks\": \"\", \"title\": {\"standoff\": 15}, \"zerolinecolor\": \"white\", \"zerolinewidth\": 2}}}, \"title\": {\"text\": \"Subreddits with most submissions having the term 'covid' in the last 48h\"}, \"width\": 800, \"xaxis\": {\"anchor\": \"y\", \"domain\": [0.0, 1.0], \"title\": {\"text\": \"Subreddits\"}}, \"yaxis\": {\"anchor\": \"x\", \"domain\": [0.0, 1.0], \"title\": {\"text\": \"Number of submissions\"}}},\n",
       "                        {\"responsive\": true}\n",
       "                    ).then(function(){\n",
       "                            \n",
       "var gd = document.getElementById('079d0e18-ba35-4690-8740-c35a09dc8516');\n",
       "var x = new MutationObserver(function (mutations, observer) {{\n",
       "        var display = window.getComputedStyle(gd).display;\n",
       "        if (!display || display === 'none') {{\n",
       "            console.log([gd, 'removed!']);\n",
       "            Plotly.purge(gd);\n",
       "            observer.disconnect();\n",
       "        }}\n",
       "}});\n",
       "\n",
       "// Listen for the removal of the full notebook cells\n",
       "var notebookContainer = gd.closest('#notebook-container');\n",
       "if (notebookContainer) {{\n",
       "    x.observe(notebookContainer, {childList: true});\n",
       "}}\n",
       "\n",
       "// Listen for the clearing of the current output cell\n",
       "var outputEl = gd.closest('.output');\n",
       "if (outputEl) {{\n",
       "    x.observe(outputEl, {childList: true});\n",
       "}}\n",
       "\n",
       "                        })\n",
       "                };\n",
       "                });\n",
       "            </script>\n",
       "        </div>"
      ]
     },
     "metadata": {},
     "output_type": "display_data"
    }
   ],
   "source": [
    "data = get_reddit_data(data_type=\"submission\", q=TERM_OF_INTEREST, after=TIMEFRAME, size=1000, aggs=\"subreddit\").get(\"data\")\n",
    "\n",
    "df = pandas.DataFrame(data)[\"subreddit\"].value_counts()[0:10]\n",
    "x = df.keys()\n",
    "y = df.values\n",
    "\n",
    "\n",
    "px.bar(df,\n",
    "       x=x,\n",
    "       y=y,\n",
    "       title=f\"Subreddits with most submissions having the term '{TERM_OF_INTEREST}' in the last {TIMEFRAME}\",\n",
    "       labels={\"x\": \"Subreddits\", \"y\": \"Number of submissions\"},\n",
    "       color_discrete_sequence=[COMMENT_COLOR],\n",
    "       height=500,\n",
    "       width=800)"
   ]
  },
  {
   "cell_type": "markdown",
   "metadata": {},
   "source": [
    "## Most upvoted comments <a class=\"anchor\" id=\"3\"></a>"
   ]
  },
  {
   "cell_type": "code",
   "execution_count": 69,
   "metadata": {},
   "outputs": [
    {
     "name": "stdout",
     "output_type": "stream",
     "text": [
      "\n",
      "Top 10 most upvoted comments having the term 'covid' in the last 48h\n",
      "\n"
     ]
    },
    {
     "data": {
      "text/html": [
       "<style  type=\"text/css\" >\n",
       "</style><table id=\"T_54d0b96e_97d3_11eb_aed1_a683e7ca341a\" ><thead>    <tr>        <th class=\"blank level0\" ></th>        <th class=\"col_heading level0 col0\" >author</th>        <th class=\"col_heading level0 col1\" >subreddit</th>        <th class=\"col_heading level0 col2\" >score</th>        <th class=\"col_heading level0 col3\" >body</th>        <th class=\"col_heading level0 col4\" >permalink</th>    </tr></thead><tbody>\n",
       "                <tr>\n",
       "                        <th id=\"T_54d0b96e_97d3_11eb_aed1_a683e7ca341alevel0_row0\" class=\"row_heading level0 row0\" >0</th>\n",
       "                        <td id=\"T_54d0b96e_97d3_11eb_aed1_a683e7ca341arow0_col0\" class=\"data row0 col0\" >Gold-Giant</td>\n",
       "                        <td id=\"T_54d0b96e_97d3_11eb_aed1_a683e7ca341arow0_col1\" class=\"data row0 col1\" >PublicFreakout</td>\n",
       "                        <td id=\"T_54d0b96e_97d3_11eb_aed1_a683e7ca341arow0_col2\" class=\"data row0 col2\" >131</td>\n",
       "                        <td id=\"T_54d0b96e_97d3_11eb_aed1_a683e7ca341arow0_col3\" class=\"data row0 col3\" >Everybody knows Covid can’t get you while you’re eating cookies....</td>\n",
       "                        <td id=\"T_54d0b96e_97d3_11eb_aed1_a683e7ca341arow0_col4\" class=\"data row0 col4\" ><a href=\"https://reddit.com/r/PublicFreakout/comments/mkqhhd/family_kicked_off_a_flight_because_their_two_year/gtij8zf/\">Link</a></td>\n",
       "            </tr>\n",
       "            <tr>\n",
       "                        <th id=\"T_54d0b96e_97d3_11eb_aed1_a683e7ca341alevel0_row1\" class=\"row_heading level0 row1\" >1</th>\n",
       "                        <td id=\"T_54d0b96e_97d3_11eb_aed1_a683e7ca341arow1_col0\" class=\"data row1 col0\" >NomDrop</td>\n",
       "                        <td id=\"T_54d0b96e_97d3_11eb_aed1_a683e7ca341arow1_col1\" class=\"data row1 col1\" >insanepeoplefacebook</td>\n",
       "                        <td id=\"T_54d0b96e_97d3_11eb_aed1_a683e7ca341arow1_col2\" class=\"data row1 col2\" >107</td>\n",
       "                        <td id=\"T_54d0b96e_97d3_11eb_aed1_a683e7ca341arow1_col3\" class=\"data row1 col3\" >I like how the true Covid cures were hidden from the public by one political party (who wasn’t even ...</td>\n",
       "                        <td id=\"T_54d0b96e_97d3_11eb_aed1_a683e7ca341arow1_col4\" class=\"data row1 col4\" ><a href=\"https://reddit.com/r/insanepeoplefacebook/comments/mllsqp/i_grew_up_with_this_guy_he_posts_some_truly_crazy/gtmr46f/\">Link</a></td>\n",
       "            </tr>\n",
       "            <tr>\n",
       "                        <th id=\"T_54d0b96e_97d3_11eb_aed1_a683e7ca341alevel0_row2\" class=\"row_heading level0 row2\" >2</th>\n",
       "                        <td id=\"T_54d0b96e_97d3_11eb_aed1_a683e7ca341arow2_col0\" class=\"data row2 col0\" >oojamaflip123</td>\n",
       "                        <td id=\"T_54d0b96e_97d3_11eb_aed1_a683e7ca341arow2_col1\" class=\"data row2 col1\" >LiverpoolFC</td>\n",
       "                        <td id=\"T_54d0b96e_97d3_11eb_aed1_a683e7ca341arow2_col2\" class=\"data row2 col2\" >90</td>\n",
       "                        <td id=\"T_54d0b96e_97d3_11eb_aed1_a683e7ca341arow2_col3\" class=\"data row2 col3\" >The only thing that makes sense at all is Covid. He's gone from the best winger in the World to not ...</td>\n",
       "                        <td id=\"T_54d0b96e_97d3_11eb_aed1_a683e7ca341arow2_col4\" class=\"data row2 col4\" ><a href=\"https://reddit.com/r/LiverpoolFC/comments/mllgch/ft_thread_real_madrid_fc_31_liverpool_fc/gtm4ohg/\">Link</a></td>\n",
       "            </tr>\n",
       "            <tr>\n",
       "                        <th id=\"T_54d0b96e_97d3_11eb_aed1_a683e7ca341alevel0_row3\" class=\"row_heading level0 row3\" >3</th>\n",
       "                        <td id=\"T_54d0b96e_97d3_11eb_aed1_a683e7ca341arow3_col0\" class=\"data row3 col0\" >CT_x</td>\n",
       "                        <td id=\"T_54d0b96e_97d3_11eb_aed1_a683e7ca341arow3_col1\" class=\"data row3 col1\" >soccer</td>\n",
       "                        <td id=\"T_54d0b96e_97d3_11eb_aed1_a683e7ca341arow3_col2\" class=\"data row3 col2\" >79</td>\n",
       "                        <td id=\"T_54d0b96e_97d3_11eb_aed1_a683e7ca341arow3_col3\" class=\"data row3 col3\" >He's been fairly shite for months now.  Every week that passes I am wholly convinced he has a case o...</td>\n",
       "                        <td id=\"T_54d0b96e_97d3_11eb_aed1_a683e7ca341arow3_col4\" class=\"data row3 col4\" ><a href=\"https://reddit.com/r/soccer/comments/mllg42/postmatch_thread_real_madrid_31_liverpool_uefa/gtm4ocy/\">Link</a></td>\n",
       "            </tr>\n",
       "            <tr>\n",
       "                        <th id=\"T_54d0b96e_97d3_11eb_aed1_a683e7ca341alevel0_row4\" class=\"row_heading level0 row4\" >4</th>\n",
       "                        <td id=\"T_54d0b96e_97d3_11eb_aed1_a683e7ca341arow4_col0\" class=\"data row4 col0\" >Profession-Unable</td>\n",
       "                        <td id=\"T_54d0b96e_97d3_11eb_aed1_a683e7ca341arow4_col1\" class=\"data row4 col1\" >WhitePeopleTwitter</td>\n",
       "                        <td id=\"T_54d0b96e_97d3_11eb_aed1_a683e7ca341arow4_col2\" class=\"data row4 col2\" >77</td>\n",
       "                        <td id=\"T_54d0b96e_97d3_11eb_aed1_a683e7ca341arow4_col3\" class=\"data row4 col3\" >I’m pretty sure it also makes your symptoms much less severe if you do manage to contract Covid....</td>\n",
       "                        <td id=\"T_54d0b96e_97d3_11eb_aed1_a683e7ca341arow4_col4\" class=\"data row4 col4\" ><a href=\"https://reddit.com/r/WhitePeopleTwitter/comments/mlgzh1/gonna_get_real/gtlqw8x/\">Link</a></td>\n",
       "            </tr>\n",
       "            <tr>\n",
       "                        <th id=\"T_54d0b96e_97d3_11eb_aed1_a683e7ca341alevel0_row5\" class=\"row_heading level0 row5\" >5</th>\n",
       "                        <td id=\"T_54d0b96e_97d3_11eb_aed1_a683e7ca341arow5_col0\" class=\"data row5 col0\" >GobtheCyberPunk</td>\n",
       "                        <td id=\"T_54d0b96e_97d3_11eb_aed1_a683e7ca341arow5_col1\" class=\"data row5 col1\" >baseball</td>\n",
       "                        <td id=\"T_54d0b96e_97d3_11eb_aed1_a683e7ca341arow5_col2\" class=\"data row5 col2\" >74</td>\n",
       "                        <td id=\"T_54d0b96e_97d3_11eb_aed1_a683e7ca341arow5_col3\" class=\"data row5 col3\" >That 90% number is also misleading because thats 90% chance of being *infected at all* if exposed to...</td>\n",
       "                        <td id=\"T_54d0b96e_97d3_11eb_aed1_a683e7ca341arow5_col4\" class=\"data row5 col4\" ><a href=\"https://reddit.com/r/baseball/comments/mkrmx3/janes_max_scherzer_on_the_vaccine_for_me_i_tend/gthwyfw/\">Link</a></td>\n",
       "            </tr>\n",
       "            <tr>\n",
       "                        <th id=\"T_54d0b96e_97d3_11eb_aed1_a683e7ca341alevel0_row6\" class=\"row_heading level0 row6\" >6</th>\n",
       "                        <td id=\"T_54d0b96e_97d3_11eb_aed1_a683e7ca341arow6_col0\" class=\"data row6 col0\" >fangus</td>\n",
       "                        <td id=\"T_54d0b96e_97d3_11eb_aed1_a683e7ca341arow6_col1\" class=\"data row6 col1\" >soccer</td>\n",
       "                        <td id=\"T_54d0b96e_97d3_11eb_aed1_a683e7ca341arow6_col2\" class=\"data row6 col2\" >70</td>\n",
       "                        <td id=\"T_54d0b96e_97d3_11eb_aed1_a683e7ca341arow6_col3\" class=\"data row6 col3\" >At least not as far as COVID goes...</td>\n",
       "                        <td id=\"T_54d0b96e_97d3_11eb_aed1_a683e7ca341arow6_col4\" class=\"data row6 col4\" ><a href=\"https://reddit.com/r/soccer/comments/mllfef/postmatch_thread_manchester_city_21_borussia/gtm65cn/\">Link</a></td>\n",
       "            </tr>\n",
       "            <tr>\n",
       "                        <th id=\"T_54d0b96e_97d3_11eb_aed1_a683e7ca341alevel0_row7\" class=\"row_heading level0 row7\" >7</th>\n",
       "                        <td id=\"T_54d0b96e_97d3_11eb_aed1_a683e7ca341arow7_col0\" class=\"data row7 col0\" >centaurius_</td>\n",
       "                        <td id=\"T_54d0b96e_97d3_11eb_aed1_a683e7ca341arow7_col1\" class=\"data row7 col1\" >NYYankees</td>\n",
       "                        <td id=\"T_54d0b96e_97d3_11eb_aed1_a683e7ca341arow7_col2\" class=\"data row7 col2\" >69</td>\n",
       "                        <td id=\"T_54d0b96e_97d3_11eb_aed1_a683e7ca341arow7_col3\" class=\"data row7 col3\" >#COLE TRAIN: RUNNING EXPRESS\n",
       "\n",
       "#BRUCE: LOOSE\n",
       "\n",
       "#AARON: JUDGE AND JURY\n",
       "\n",
       "#GREEN: ALPHA\n",
       "\n",
       "#LUETGE: CLOSING...</td>\n",
       "                        <td id=\"T_54d0b96e_97d3_11eb_aed1_a683e7ca341arow7_col4\" class=\"data row7 col4\" ><a href=\"https://reddit.com/r/NYYankees/comments/mlr8he/its_what_you_want_the_yankees_defeated_the/gtn2ao2/\">Link</a></td>\n",
       "            </tr>\n",
       "            <tr>\n",
       "                        <th id=\"T_54d0b96e_97d3_11eb_aed1_a683e7ca341alevel0_row8\" class=\"row_heading level0 row8\" >8</th>\n",
       "                        <td id=\"T_54d0b96e_97d3_11eb_aed1_a683e7ca341arow8_col0\" class=\"data row8 col0\" >ceddzz3000</td>\n",
       "                        <td id=\"T_54d0b96e_97d3_11eb_aed1_a683e7ca341arow8_col1\" class=\"data row8 col1\" >LivestreamFail</td>\n",
       "                        <td id=\"T_54d0b96e_97d3_11eb_aed1_a683e7ca341arow8_col2\" class=\"data row8 col2\" >60</td>\n",
       "                        <td id=\"T_54d0b96e_97d3_11eb_aed1_a683e7ca341arow8_col3\" class=\"data row8 col3\" >theres racists in every country but yeah (sry for the political take or whatever) trump just yelling...</td>\n",
       "                        <td id=\"T_54d0b96e_97d3_11eb_aed1_a683e7ca341arow8_col4\" class=\"data row8 col4\" ><a href=\"https://reddit.com/r/LivestreamFail/comments/mlkk8c/pro_overwatch_player_fearless_on_the_racism_he/gtm6qna/\">Link</a></td>\n",
       "            </tr>\n",
       "            <tr>\n",
       "                        <th id=\"T_54d0b96e_97d3_11eb_aed1_a683e7ca341alevel0_row9\" class=\"row_heading level0 row9\" >9</th>\n",
       "                        <td id=\"T_54d0b96e_97d3_11eb_aed1_a683e7ca341arow9_col0\" class=\"data row9 col0\" >TopOfTheKey</td>\n",
       "                        <td id=\"T_54d0b96e_97d3_11eb_aed1_a683e7ca341arow9_col1\" class=\"data row9 col1\" >baseball</td>\n",
       "                        <td id=\"T_54d0b96e_97d3_11eb_aed1_a683e7ca341arow9_col2\" class=\"data row9 col2\" >56</td>\n",
       "                        <td id=\"T_54d0b96e_97d3_11eb_aed1_a683e7ca341arow9_col3\" class=\"data row9 col3\" >Soto doesn't have COVID.\n",
       "\n",
       "League is fucked....</td>\n",
       "                        <td id=\"T_54d0b96e_97d3_11eb_aed1_a683e7ca341arow9_col4\" class=\"data row9 col4\" ><a href=\"https://reddit.com/r/baseball/comments/mlop9y/juan_soto_walks_off_the_braves_on_their_opening/gtmm4b0/\">Link</a></td>\n",
       "            </tr>\n",
       "    </tbody></table>"
      ],
      "text/plain": [
       "<pandas.io.formats.style.Styler at 0x7f8362505690>"
      ]
     },
     "execution_count": 69,
     "metadata": {},
     "output_type": "execute_result"
    }
   ],
   "source": [
    "data = get_reddit_data(data_type=\"comment\", q=TERM_OF_INTEREST, after=TIMEFRAME, size=10, sort_type=\"score\", sort=\"desc\").get(\"data\")\n",
    "# to see what columns interest you, simply list(df)\n",
    "df = pandas.DataFrame(data)[[\"author\", \"subreddit\", \"score\", \"body\", \"permalink\"]]\n",
    "\n",
    "# we only keep the first X characters of the body \n",
    "df.body = df.body.str[0:100] + \"...\"\n",
    "\n",
    "# we append the string to all the permalink entries\n",
    "df.permalink = \"https://reddit.com\" + df.permalink.astype(str)\n",
    "\n",
    "# print \n",
    "print(f\"\\nTop 10 most upvoted comments having the term '{TERM_OF_INTEREST}' in the last {TIMEFRAME}\\n\")\n",
    "\n",
    "# style the last column to be clickable and print\n",
    "df.style.format({'permalink': make_clickable})"
   ]
  },
  {
   "cell_type": "markdown",
   "metadata": {},
   "source": [
    "## Most commented submissions <a class=\"anchor\" id=\"4\"></a>"
   ]
  },
  {
   "cell_type": "code",
   "execution_count": 70,
   "metadata": {},
   "outputs": [
    {
     "name": "stdout",
     "output_type": "stream",
     "text": [
      "\n",
      "Top 10 most commented submissions having the term 'covid' in the last 48h\n",
      "\n"
     ]
    },
    {
     "data": {
      "text/html": [
       "<style  type=\"text/css\" >\n",
       "</style><table id=\"T_55dd65b4_97d3_11eb_aed1_a683e7ca341a\" ><thead>    <tr>        <th class=\"blank level0\" ></th>        <th class=\"col_heading level0 col0\" >author</th>        <th class=\"col_heading level0 col1\" >subreddit</th>        <th class=\"col_heading level0 col2\" >num_comments</th>        <th class=\"col_heading level0 col3\" >title</th>        <th class=\"col_heading level0 col4\" >permalink</th>    </tr></thead><tbody>\n",
       "                <tr>\n",
       "                        <th id=\"T_55dd65b4_97d3_11eb_aed1_a683e7ca341alevel0_row0\" class=\"row_heading level0 row0\" >0</th>\n",
       "                        <td id=\"T_55dd65b4_97d3_11eb_aed1_a683e7ca341arow0_col0\" class=\"data row0 col0\" >NewYorkMetsBot</td>\n",
       "                        <td id=\"T_55dd65b4_97d3_11eb_aed1_a683e7ca341arow0_col1\" class=\"data row0 col1\" >NewYorkMets</td>\n",
       "                        <td id=\"T_55dd65b4_97d3_11eb_aed1_a683e7ca341arow0_col2\" class=\"data row0 col2\" >4376</td>\n",
       "                        <td id=\"T_55dd65b4_97d3_11eb_aed1_a683e7ca341arow0_col3\" class=\"data row0 col3\" >GAME THREAD: Mets (0-1) @ Phillies (4-0) - Tue, Apr 06 @ 07:05 PM EDT...</td>\n",
       "                        <td id=\"T_55dd65b4_97d3_11eb_aed1_a683e7ca341arow0_col4\" class=\"data row0 col4\" ><a href=\"https://reddit.com/r/NewYorkMets/comments/mllpoq/game_thread_mets_01_phillies_40_tue_apr_06_0705/\">Link</a></td>\n",
       "            </tr>\n",
       "            <tr>\n",
       "                        <th id=\"T_55dd65b4_97d3_11eb_aed1_a683e7ca341alevel0_row1\" class=\"row_heading level0 row1\" >1</th>\n",
       "                        <td id=\"T_55dd65b4_97d3_11eb_aed1_a683e7ca341arow1_col0\" class=\"data row1 col0\" >jcceagle</td>\n",
       "                        <td id=\"T_55dd65b4_97d3_11eb_aed1_a683e7ca341arow1_col1\" class=\"data row1 col1\" >dataisbeautiful</td>\n",
       "                        <td id=\"T_55dd65b4_97d3_11eb_aed1_a683e7ca341arow1_col2\" class=\"data row1 col2\" >2263</td>\n",
       "                        <td id=\"T_55dd65b4_97d3_11eb_aed1_a683e7ca341arow1_col3\" class=\"data row1 col3\" >[OC] Are Covid-19 vaccinations working?...</td>\n",
       "                        <td id=\"T_55dd65b4_97d3_11eb_aed1_a683e7ca341arow1_col4\" class=\"data row1 col4\" ><a href=\"https://reddit.com/r/dataisbeautiful/comments/mlxivl/oc_are_covid19_vaccinations_working/\">Link</a></td>\n",
       "            </tr>\n",
       "            <tr>\n",
       "                        <th id=\"T_55dd65b4_97d3_11eb_aed1_a683e7ca341alevel0_row2\" class=\"row_heading level0 row2\" >2</th>\n",
       "                        <td id=\"T_55dd65b4_97d3_11eb_aed1_a683e7ca341arow2_col0\" class=\"data row2 col0\" >PhilsBot</td>\n",
       "                        <td id=\"T_55dd65b4_97d3_11eb_aed1_a683e7ca341arow2_col1\" class=\"data row2 col1\" >phillies</td>\n",
       "                        <td id=\"T_55dd65b4_97d3_11eb_aed1_a683e7ca341arow2_col2\" class=\"data row2 col2\" >1860</td>\n",
       "                        <td id=\"T_55dd65b4_97d3_11eb_aed1_a683e7ca341arow2_col3\" class=\"data row2 col3\" >Game Thread: Mets (0-1) @ Phillies (4-0) - Tue, Apr 06 @ 07:05 PM EDT...</td>\n",
       "                        <td id=\"T_55dd65b4_97d3_11eb_aed1_a683e7ca341arow2_col4\" class=\"data row2 col4\" ><a href=\"https://reddit.com/r/phillies/comments/mlns4a/game_thread_mets_01_phillies_40_tue_apr_06_0705/\">Link</a></td>\n",
       "            </tr>\n",
       "            <tr>\n",
       "                        <th id=\"T_55dd65b4_97d3_11eb_aed1_a683e7ca341alevel0_row3\" class=\"row_heading level0 row3\" >3</th>\n",
       "                        <td id=\"T_55dd65b4_97d3_11eb_aed1_a683e7ca341arow3_col0\" class=\"data row3 col0\" >ukpolbot</td>\n",
       "                        <td id=\"T_55dd65b4_97d3_11eb_aed1_a683e7ca341arow3_col1\" class=\"data row3 col1\" >ukpolitics</td>\n",
       "                        <td id=\"T_55dd65b4_97d3_11eb_aed1_a683e7ca341arow3_col2\" class=\"data row3 col2\" >1815</td>\n",
       "                        <td id=\"T_55dd65b4_97d3_11eb_aed1_a683e7ca341arow3_col3\" class=\"data row3 col3\" >Daily Megathread - 06/04/2021...</td>\n",
       "                        <td id=\"T_55dd65b4_97d3_11eb_aed1_a683e7ca341arow3_col4\" class=\"data row3 col4\" ><a href=\"https://reddit.com/r/ukpolitics/comments/ml41du/daily_megathread_06042021/\">Link</a></td>\n",
       "            </tr>\n",
       "            <tr>\n",
       "                        <th id=\"T_55dd65b4_97d3_11eb_aed1_a683e7ca341alevel0_row4\" class=\"row_heading level0 row4\" >4</th>\n",
       "                        <td id=\"T_55dd65b4_97d3_11eb_aed1_a683e7ca341arow4_col0\" class=\"data row4 col0\" >throwaway5272</td>\n",
       "                        <td id=\"T_55dd65b4_97d3_11eb_aed1_a683e7ca341arow4_col1\" class=\"data row4 col1\" >politics</td>\n",
       "                        <td id=\"T_55dd65b4_97d3_11eb_aed1_a683e7ca341arow4_col2\" class=\"data row4 col2\" >1726</td>\n",
       "                        <td id=\"T_55dd65b4_97d3_11eb_aed1_a683e7ca341arow4_col3\" class=\"data row4 col3\" >Biden set to announce he's moving deadline for all US adults to be eligible for Covid vaccine to April 19...</td>\n",
       "                        <td id=\"T_55dd65b4_97d3_11eb_aed1_a683e7ca341arow4_col4\" class=\"data row4 col4\" ><a href=\"https://reddit.com/r/politics/comments/ml9c2c/biden_set_to_announce_hes_moving_deadline_for_all/\">Link</a></td>\n",
       "            </tr>\n",
       "            <tr>\n",
       "                        <th id=\"T_55dd65b4_97d3_11eb_aed1_a683e7ca341alevel0_row5\" class=\"row_heading level0 row5\" >5</th>\n",
       "                        <td id=\"T_55dd65b4_97d3_11eb_aed1_a683e7ca341arow5_col0\" class=\"data row5 col0\" >nogoyolo</td>\n",
       "                        <td id=\"T_55dd65b4_97d3_11eb_aed1_a683e7ca341arow5_col1\" class=\"data row5 col1\" >AmItheAsshole</td>\n",
       "                        <td id=\"T_55dd65b4_97d3_11eb_aed1_a683e7ca341arow5_col2\" class=\"data row5 col2\" >1541</td>\n",
       "                        <td id=\"T_55dd65b4_97d3_11eb_aed1_a683e7ca341arow5_col3\" class=\"data row5 col3\" >AITA for following through and not going to Easter because I'm tired of EVERY family thing being about the kids?...</td>\n",
       "                        <td id=\"T_55dd65b4_97d3_11eb_aed1_a683e7ca341arow5_col4\" class=\"data row5 col4\" ><a href=\"https://reddit.com/r/AmItheAsshole/comments/mkyzpw/aita_for_following_through_and_not_going_to/\">Link</a></td>\n",
       "            </tr>\n",
       "            <tr>\n",
       "                        <th id=\"T_55dd65b4_97d3_11eb_aed1_a683e7ca341alevel0_row6\" class=\"row_heading level0 row6\" >6</th>\n",
       "                        <td id=\"T_55dd65b4_97d3_11eb_aed1_a683e7ca341arow6_col0\" class=\"data row6 col0\" >AutoModerator</td>\n",
       "                        <td id=\"T_55dd65b4_97d3_11eb_aed1_a683e7ca341arow6_col1\" class=\"data row6 col1\" >Coronavirus</td>\n",
       "                        <td id=\"T_55dd65b4_97d3_11eb_aed1_a683e7ca341arow6_col2\" class=\"data row6 col2\" >1236</td>\n",
       "                        <td id=\"T_55dd65b4_97d3_11eb_aed1_a683e7ca341arow6_col3\" class=\"data row6 col3\" >Daily Discussion Thread | April 06, 2021...</td>\n",
       "                        <td id=\"T_55dd65b4_97d3_11eb_aed1_a683e7ca341arow6_col4\" class=\"data row6 col4\" ><a href=\"https://reddit.com/r/Coronavirus/comments/ml5rog/daily_discussion_thread_april_06_2021/\">Link</a></td>\n",
       "            </tr>\n",
       "            <tr>\n",
       "                        <th id=\"T_55dd65b4_97d3_11eb_aed1_a683e7ca341alevel0_row7\" class=\"row_heading level0 row7\" >7</th>\n",
       "                        <td id=\"T_55dd65b4_97d3_11eb_aed1_a683e7ca341arow7_col0\" class=\"data row7 col0\" >ukpolbot</td>\n",
       "                        <td id=\"T_55dd65b4_97d3_11eb_aed1_a683e7ca341arow7_col1\" class=\"data row7 col1\" >ukpolitics</td>\n",
       "                        <td id=\"T_55dd65b4_97d3_11eb_aed1_a683e7ca341arow7_col2\" class=\"data row7 col2\" >1182</td>\n",
       "                        <td id=\"T_55dd65b4_97d3_11eb_aed1_a683e7ca341arow7_col3\" class=\"data row7 col3\" >Daily Megathread - 07/04/2021...</td>\n",
       "                        <td id=\"T_55dd65b4_97d3_11eb_aed1_a683e7ca341arow7_col4\" class=\"data row7 col4\" ><a href=\"https://reddit.com/r/ukpolitics/comments/mlupwm/daily_megathread_07042021/\">Link</a></td>\n",
       "            </tr>\n",
       "            <tr>\n",
       "                        <th id=\"T_55dd65b4_97d3_11eb_aed1_a683e7ca341alevel0_row8\" class=\"row_heading level0 row8\" >8</th>\n",
       "                        <td id=\"T_55dd65b4_97d3_11eb_aed1_a683e7ca341arow8_col0\" class=\"data row8 col0\" >Vulphere</td>\n",
       "                        <td id=\"T_55dd65b4_97d3_11eb_aed1_a683e7ca341arow8_col1\" class=\"data row8 col1\" >indonesia</td>\n",
       "                        <td id=\"T_55dd65b4_97d3_11eb_aed1_a683e7ca341arow8_col2\" class=\"data row8 col2\" >1131</td>\n",
       "                        <td id=\"T_55dd65b4_97d3_11eb_aed1_a683e7ca341arow8_col3\" class=\"data row8 col3\" >07 April 2021- Daily Chat Thread...</td>\n",
       "                        <td id=\"T_55dd65b4_97d3_11eb_aed1_a683e7ca341arow8_col4\" class=\"data row8 col4\" ><a href=\"https://reddit.com/r/indonesia/comments/mlgg45/07_april_2021_daily_chat_thread/\">Link</a></td>\n",
       "            </tr>\n",
       "            <tr>\n",
       "                        <th id=\"T_55dd65b4_97d3_11eb_aed1_a683e7ca341alevel0_row9\" class=\"row_heading level0 row9\" >9</th>\n",
       "                        <td id=\"T_55dd65b4_97d3_11eb_aed1_a683e7ca341arow9_col0\" class=\"data row9 col0\" >thaonguyenvan</td>\n",
       "                        <td id=\"T_55dd65b4_97d3_11eb_aed1_a683e7ca341arow9_col1\" class=\"data row9 col1\" >leagueoflegends</td>\n",
       "                        <td id=\"T_55dd65b4_97d3_11eb_aed1_a683e7ca341arow9_col2\" class=\"data row9 col2\" >1067</td>\n",
       "                        <td id=\"T_55dd65b4_97d3_11eb_aed1_a683e7ca341arow9_col3\" class=\"data row9 col3\" >Former GAM Esports top laner Zeros banned permanently after joking about Covid-19 on stream...</td>\n",
       "                        <td id=\"T_55dd65b4_97d3_11eb_aed1_a683e7ca341arow9_col4\" class=\"data row9 col4\" ><a href=\"https://reddit.com/r/leagueoflegends/comments/mlhbvy/former_gam_esports_top_laner_zeros_banned/\">Link</a></td>\n",
       "            </tr>\n",
       "    </tbody></table>"
      ],
      "text/plain": [
       "<pandas.io.formats.style.Styler at 0x7f83613b3750>"
      ]
     },
     "execution_count": 70,
     "metadata": {},
     "output_type": "execute_result"
    }
   ],
   "source": [
    "data = get_reddit_data(data_type=\"submission\", q=TERM_OF_INTEREST, after=TIMEFRAME, size=10, sort_type=\"num_comments\", sort=\"desc\").get(\"data\")\n",
    "\n",
    "\n",
    "# to see what columns interest you, simply list(df)\n",
    "df = pandas.DataFrame.from_records(data)[[\"author\", \"subreddit\", \"num_comments\", \"title\", \"permalink\"]]\n",
    "\n",
    "# we only keep the first X characters of the body \n",
    "df.title = df.title[0:100] + \"...\"\n",
    "\n",
    "# we append the string to all the permalink entries\n",
    "df.permalink = \"https://reddit.com\" + df.permalink.astype(str)\n",
    "\n",
    "# print \n",
    "print(f\"\\nTop 10 most commented submissions having the term '{TERM_OF_INTEREST}' in the last {TIMEFRAME}\\n\")\n",
    "\n",
    "# style the last column to be clickable and print\n",
    "df.style.format({'permalink': make_clickable})\n"
   ]
  },
  {
   "cell_type": "markdown",
   "metadata": {},
   "source": [
    "## /r/covid comment sentiment timeline <a class=\"anchor\" id=\"5\"></a>"
   ]
  },
  {
   "cell_type": "code",
   "execution_count": 71,
   "metadata": {},
   "outputs": [
    {
     "data": {
      "application/vnd.plotly.v1+json": {
       "config": {
        "plotlyServerURL": "https://plot.ly"
       },
       "data": [
        {
         "customdata": [
          [
           "ObjectiveToe8023",
           "/r/COVID/comments/mlp6id/why_arent_there_full_lockdowns_anymore/gtmps83/",
           "Human beings are not meant to live like we have be"
          ],
          [
           "PM_ME_YOUR_KANKLES",
           "/r/COVID/comments/mkvr0q/no_to_covid_passports_please_sign/gti7hh3/",
           "Can you link me to one that supports covid passpor"
          ],
          [
           "MichioBu",
           "/r/COVID/comments/mlp6id/why_arent_there_full_lockdowns_anymore/gtmt24k/",
           "Why aren't people able to understand that restrict"
          ],
          [
           "EntireCalligrapher26",
           "/r/COVID/comments/mkx3on/outdoor_transmissions_accounts_for_01_of_the/gtie93r/",
           "Tell this to people walking alone with a mask on."
          ],
          [
           "GrouchoBark",
           "/r/COVID/comments/mlk9zh/tested_negative_twice_but_still_feeling_some/gtm5l4t/",
           "You don’t mention what type of test. rapid or PCR."
          ],
          [
           "agkemp97",
           "/r/COVID/comments/mkr0yh/vaccine_effects_on_ferritin_levels/gthtthi/",
           "I’ve heard of some vaccines in general causing idi"
          ],
          [
           "Your-Mask-Is-Tinfoil",
           "/r/COVID/comments/mkttca/if_the_cdc_determines_that_vaccinated_people_have/gthsqds/",
           "No."
          ],
          [
           "Princelisa6",
           "/r/COVID/comments/mlnme3/have_an_vax_appt_but_on_the_fence/gtmp2t7/",
           "Get it .I got 2 Moderna and my anxiety about contr"
          ],
          [
           "Thud2",
           "/r/COVID/comments/mm0usu/morgan_freeman_rips_antivaxxers_on_daily_show_get/gtp0orh/",
           "Why do you think the vaccine is gene therapy?"
          ],
          [
           "dibernap",
           "/r/COVID/comments/mkx3on/outdoor_transmissions_accounts_for_01_of_the/gtix590/",
           "This is news?"
          ],
          [
           "SXFlyer",
           "/r/COVID/comments/mkxznl/why_isnt_there_more_walk_in_covid_testing/gtigmyu/",
           "That sucks. But isn’t New York state now allowing "
          ],
          [
           "Marlin3360",
           "/r/COVID/comments/mlp6id/why_arent_there_full_lockdowns_anymore/gtmwhv8/",
           "Take the vaccine, follow mask protocol, don’t be a"
          ],
          [
           "iDioticArmyBianca",
           "/r/COVID/comments/mkenlf/so_i_made_a_poster/gtkx1ho/",
           "I LIKE UR FUNNY WORDS MAGIC MAN AGAHHAHAHAHAHA"
          ],
          [
           "iDioticArmyBianca",
           "/r/COVID/comments/mkenlf/so_i_made_a_poster/gtkxd7u/",
           "nah mate thats u :)"
          ],
          [
           "iDioticArmyBianca",
           "/r/COVID/comments/mkenlf/so_i_made_a_poster/gtkzle9/",
           "GO OFF👏👏👏👏"
          ],
          [
           "nancylyn",
           "/r/COVID/comments/mlnme3/have_an_vax_appt_but_on_the_fence/gtn2o8r/",
           "Well, i read the rates of blood clots in the group"
          ],
          [
           "PETESPETESPETES",
           "/r/COVID/comments/mlnme3/have_an_vax_appt_but_on_the_fence/gtn3do2/",
           "I thought you could still catch it?"
          ],
          [
           "username-loadingg",
           "/r/COVID/comments/mlnme3/have_an_vax_appt_but_on_the_fence/gtmlk8c/",
           "My friend got the J&amp;J vaccine a week ago and h"
          ],
          [
           "d-r_s-e-u-s-s",
           "/r/COVID/comments/mlnme3/have_an_vax_appt_but_on_the_fence/gtmxz4u/",
           "Can I ask in your opinion, is the scare mongering "
          ],
          [
           "YYR123",
           "/r/COVID/comments/mlnme3/have_an_vax_appt_but_on_the_fence/gtn6sdq/",
           "Push through and get it. You’ll feel so much bette"
          ],
          [
           "CoconutAlert9046",
           "/r/COVID/comments/mlf752/i_have_nothing_to_do/gtl0ylb/",
           "Usa have cured cancer but arent releasing the anti"
          ],
          [
           "jmoney3001",
           "/r/COVID/comments/ml9a8s/april_2020/gtkw30c/",
           "Fuck this guy. You are surviving a terrible and do"
          ],
          [
           "nazarlawshawdee",
           "/r/COVID/comments/ml9a8s/april_2020/gtkxd9l/",
           "This sub is full of covid-denying antivax q-anon c"
          ],
          [
           "GrouchoBark",
           "/r/COVID/comments/mlk9zh/tested_negative_twice_but_still_feeling_some/gtm6lwl/",
           "There’s all sorts of stuff going around besides co"
          ],
          [
           "No-Independence-6842",
           "/r/COVID/comments/mlshvp/covid_long_haul/gtna9qy/",
           "It’s so interesting how COVID effects people. I wa"
          ],
          [
           "Bovinius__Cudd",
           "/r/COVID/comments/mm0usu/morgan_freeman_rips_antivaxxers_on_daily_show_get/gtp9pag/",
           "What the fuck is this sub?  \n\nThe ratio of critica"
          ],
          [
           "EnvironmentalSalt107",
           "/r/COVID/comments/mks452/came_into_contact_with_someone_who_had_covid_and/gthjifa/",
           "Thanks. If I do get it though, I know where to poi"
          ],
          [
           "Your-Mask-Is-Tinfoil",
           "/r/COVID/comments/mks452/came_into_contact_with_someone_who_had_covid_and/gthmc1x/",
           "are you obese? 89% of covid deaths were people who"
          ],
          [
           "lbeesknees",
           "/r/COVID/comments/mkg9h0/covid_arm_never_left/gthmcec/",
           "ah thank you! that’s so helpful. I was just thinki"
          ],
          [
           "StudentInvestor1",
           "/r/COVID/comments/mks452/came_into_contact_with_someone_who_had_covid_and/gthjdi9/",
           "Good for you. You’re also a good brother as well."
          ],
          [
           "Mycatreallyhatesyou",
           "/r/COVID/comments/mimoyh/if_i_have_received_both_vaccines_do_i_still_need/gthmqts/",
           "Get over it, trump lost."
          ],
          [
           "kaos_hybryd",
           "/r/COVID/comments/mibnss/asu_watching_new_covid19_arizona_variant_with_a/gtib1xz/",
           "Your level of sarcasm is far beyond what I expecte"
          ],
          [
           "Beep1776",
           "/r/COVID/comments/mibnss/asu_watching_new_covid19_arizona_variant_with_a/gtiv54o/",
           "Read r/Covidlonghaulers."
          ],
          [
           "playmorezeppelin",
           "/r/COVID/comments/mkenlf/so_i_made_a_poster/gtk68ua/",
           "How do you explain Texas doing better than other s"
          ],
          [
           "thorniodas",
           "/r/COVID/comments/ml9hpp/getting_vaccine_on_friday_but_i_work_friday_night/gtk5rmg/",
           "My arm was sore as was the spot between my shoulde"
          ],
          [
           "iDioticArmyBianca",
           "/r/COVID/comments/mkenlf/so_i_made_a_poster/gtk7acd/",
           "Well i dont know maybe its because im not in ameri"
          ],
          [
           "SXFlyer",
           "/r/COVID/comments/mladms/does_lockdown_is_necessary/gtke6o5/",
           "if we didn’t have the first lockdown (March - May "
          ],
          [
           "roberj11",
           "/r/COVID/comments/ml9a8s/april_2020/gtkdt6o/",
           "I'm sick to death of hearing from the \"I know a pe"
          ],
          [
           "roberj11",
           "/r/COVID/comments/ml9a8s/april_2020/gtkgnmx/",
           "Well you did mention your health. You didn’t want "
          ],
          [
           "jmoney3001",
           "/r/COVID/comments/ml9a8s/april_2020/gtm1as0/",
           "Captain America voice: I can do this all day\n\nlmao"
          ],
          [
           "EntireCalligrapher26",
           "/r/COVID/comments/mlis3a/the_latest_news_on_covid19_developments_in_canada/gtlnmt1/",
           "Better shut the whole country down again!"
          ],
          [
           "McKeldinDangler",
           "/r/COVID/comments/mlf4i5/deaths_in_vaccine_adverse_event_reporting_system/gtlqoxo/",
           "Agreed, ratio is key here"
          ],
          [
           "_QUAKE_",
           "/r/COVID/comments/mkk1pm/exposed_to_covid_day_of_first_vaccine/gti2rcj/",
           "Keep us updated."
          ],
          [
           "PedroLopes_5",
           "/r/COVID/comments/mkvr0q/no_to_covid_passports_please_sign/gti3pjd/",
           "This is an old petition"
          ],
          [
           "Saaeeek",
           "/r/COVID/comments/mkvr0q/no_to_covid_passports_please_sign/gti7k2s/",
           "that’s a worrying stance"
          ],
          [
           "shugzybossman",
           "/r/COVID/comments/mjxkj2/covid_sucks_rant/gtjindb/",
           "You're *"
          ],
          [
           "Thud2",
           "/r/COVID/comments/mkg9h0/covid_arm_never_left/gtjt6nq/",
           "Is aganst law"
          ],
          [
           "Ok-Requirement-2992",
           "/r/COVID/comments/mlf752/i_have_nothing_to_do/gtl2xvy/",
           "That is definitely something America would do."
          ],
          [
           "Ok-Requirement-2992",
           "/r/COVID/comments/mkenlf/so_i_made_a_poster/gtl3a1q/",
           "OH GOD, I THOUGHT GEN Z KNEW ATLEAST SOMETHING."
          ],
          [
           "boomerismylastname",
           "/r/COVID/comments/ml9a8s/april_2020/gtkql8c/",
           "I live in my roommates house not the other way aro"
          ],
          [
           "Dwaiko",
           "/r/COVID/comments/mladms/does_lockdown_is_necessary/gtmtb9i/",
           "This pandemic proved a lot to all of us all around"
          ],
          [
           "roberj11",
           "/r/COVID/comments/mlnnx9/a_covid_vaccine_side_effect_enlarged_lymph_nodes/gtn9kt8/",
           "You hit the nail on the head by using “Emergency R"
          ],
          [
           "Thud2",
           "/r/COVID/comments/mlshvp/covid_long_haul/gtnd09y/",
           "Hopefully it will run it's course. They are doing "
          ],
          [
           "Your-Mask-Is-Tinfoil",
           "/r/COVID/comments/mlxalu/would_covid_vaccine_kill_you_in_few_years/gto4t8d/",
           "I'm not an anti-vaxxer although I do get accused o"
          ],
          [
           "[deleted]",
           "/r/COVID/comments/mlnme3/have_an_vax_appt_but_on_the_fence/gtmw7xv/",
           "[removed]"
          ],
          [
           "autotldr",
           "/r/COVID/comments/mkx3on/outdoor_transmissions_accounts_for_01_of_the/gtoatdg/",
           "This is the best tl;dr I could make, [original](ht"
          ],
          [
           "Princelisa6",
           "/r/COVID/comments/mlnme3/have_an_vax_appt_but_on_the_fence/gtn3r1y/",
           "I had my 2nd shot 6 wks ago and I'm asthmatic w co"
          ],
          [
           "DisastrousAnxiety782",
           "/r/COVID/comments/mlnme3/have_an_vax_appt_but_on_the_fence/gtn5d06/",
           "Absolutely the media plays a factor, whether its g"
          ],
          [
           "esecallum",
           "/r/COVID/comments/mkg9h0/covid_arm_never_left/gtnulaa/",
           " top pharmaceutical lobbyists in 2020 included:8\n\n"
          ],
          [
           "thepapermaker",
           "/r/COVID/comments/mlnnx9/a_covid_vaccine_side_effect_enlarged_lymph_nodes/gtn7l3o/",
           "I didn't say I thought I had cancer. I said it cou"
          ],
          [
           "notanotherdumbnpc",
           "/r/COVID/comments/mm0usu/morgan_freeman_rips_antivaxxers_on_daily_show_get/gtp44ys/",
           "How dumb must someone be to take an experimental '"
          ],
          [
           "shugzybossman",
           "/r/COVID/comments/mm10be/covid_vaccine_why_or_why_shouldnt_i_get_it/gtp4fva/",
           "\nThe huge part you're not factoring in this is 99%"
          ],
          [
           "notanotherdumbnpc",
           "/r/COVID/comments/ml9hpp/getting_vaccine_on_friday_but_i_work_friday_night/gtp645p/",
           "Don't do it!!!!\n\n\nHow dumb must someone be to take"
          ],
          [
           "notanotherdumbnpc",
           "/r/COVID/comments/mls5oj/covid19_survivors_suffer_brain_disease/gtp4z0i/",
           "Covid 19 doomers suffer brain disease.\n\nHow dumb m"
          ],
          [
           "notanotherdumbnpc",
           "/r/COVID/comments/mlnnx9/a_covid_vaccine_side_effect_enlarged_lymph_nodes/gtp5msz/",
           "How dumb must someone be to take an experimental '"
          ],
          [
           "EntireCalligrapher26",
           "/r/COVID/comments/mlnme3/have_an_vax_appt_but_on_the_fence/gtokiq2/",
           "Are you trained in those fields?"
          ],
          [
           "Thud2",
           "/r/COVID/comments/mlnme3/have_an_vax_appt_but_on_the_fence/gtolis6/",
           "Again I ask you how does a supposed first responde"
          ],
          [
           "meekonesfade",
           "/r/COVID/comments/mm00z9/vaccination_in_usa/gtomyty/",
           "I am pretty sure you will have to wait.  As far as"
          ],
          [
           "esecallum",
           "/r/COVID/comments/mkg9h0/covid_arm_never_left/gtoo0tq/",
           "After PhRMA, other top pharmaceutical lobbyists in"
          ],
          [
           "Thud2",
           "/r/COVID/comments/mkg9h0/covid_arm_never_left/gtose89/",
           "Wow, let me get this straight. There's a *conspira"
          ],
          [
           "Glittering_Layer_681",
           "/r/COVID/comments/mls5oj/covid19_survivors_suffer_brain_disease/gtorxyo/",
           "https://www.cnn.com/2021/04/06/health/covid-neurol"
          ],
          [
           "Glittering_Layer_681",
           "/r/COVID/comments/mlu6al/big_zoomable_graphic_of_c19_vaccine_testimonials/gtot6nd/",
           "https://www.cnn.com/2021/04/06/health/covid-neurol"
          ],
          [
           "KellySharpee",
           "/r/COVID/comments/mlshvp/covid_long_haul/gtp93rt/",
           "I’ve got same, had covid back in November and now "
          ],
          [
           "shugzybossman",
           "/r/COVID/comments/mm10be/covid_vaccine_why_or_why_shouldnt_i_get_it/gtpaq3v/",
           "Well use the data you have then.\n\n45000\n\nAnd 1500 "
          ],
          [
           "Ancient-Signal3923",
           "/r/COVID/comments/mm0usu/morgan_freeman_rips_antivaxxers_on_daily_show_get/gtpczqe/",
           "Wonder if Billy Gates and his wife has had a real "
          ],
          [
           "AcanthisittaCool6762",
           "/r/COVID/comments/mm00z9/vaccination_in_usa/gtphmu5/",
           "Thats kind of what I figured. Im trying to see if "
          ]
         ],
         "hoverlabel": {
          "namelength": 0
         },
         "hovertemplate": "sentiment=positive<br>Date, comment was posted on=%{x}<br>Comment positivity=%{y}<br>author=%{customdata[0]}<br>permalink=%{customdata[1]}<br>preview=%{customdata[2]}",
         "legendgroup": "positive",
         "marker": {
          "color": "lightseagreen",
          "symbol": "circle"
         },
         "mode": "markers",
         "name": "positive",
         "showlegend": true,
         "type": "scatter",
         "x": [
          "2021-04-06T23:52:42",
          "2021-04-05T22:34:07",
          "2021-04-07T00:20:34",
          "2021-04-05T23:31:24",
          "2021-04-06T21:06:40",
          "2021-04-05T20:44:53",
          "2021-04-05T20:36:31",
          "2021-04-06T23:46:33",
          "2021-04-07T14:58:42",
          "2021-04-06T02:13:24",
          "2021-04-05T23:52:02",
          "2021-04-07T00:49:53",
          "2021-04-06T15:43:31",
          "2021-04-06T15:45:54",
          "2021-04-06T16:02:06",
          "2021-04-07T01:42:02",
          "2021-04-07T01:48:02",
          "2021-04-06T23:16:59",
          "2021-04-07T01:02:33",
          "2021-04-07T02:18:04",
          "2021-04-06T16:12:10",
          "2021-04-06T15:36:26",
          "2021-04-06T15:45:54",
          "2021-04-06T21:14:28",
          "2021-04-07T02:49:37",
          "2021-04-07T16:04:31",
          "2021-04-05T19:26:24",
          "2021-04-05T19:48:00",
          "2021-04-05T19:48:04",
          "2021-04-05T19:25:22",
          "2021-04-05T19:51:03",
          "2021-04-05T23:04:09",
          "2021-04-06T01:55:56",
          "2021-04-06T12:01:31",
          "2021-04-06T11:56:17",
          "2021-04-06T12:12:39",
          "2021-04-06T13:17:37",
          "2021-04-06T13:14:23",
          "2021-04-06T13:38:27",
          "2021-04-06T20:35:17",
          "2021-04-06T18:56:40",
          "2021-04-06T19:19:25",
          "2021-04-05T21:55:00",
          "2021-04-05T22:02:45",
          "2021-04-05T22:34:43",
          "2021-04-06T06:05:19",
          "2021-04-06T08:55:12",
          "2021-04-06T16:26:24",
          "2021-04-06T16:28:48",
          "2021-04-06T14:55:27",
          "2021-04-07T00:22:43",
          "2021-04-07T02:43:13",
          "2021-04-07T03:15:36",
          "2021-04-07T09:34:58",
          "2021-04-07T00:47:32",
          "2021-04-07T11:03:19",
          "2021-04-07T01:51:10",
          "2021-04-07T02:05:16",
          "2021-04-07T06:49:39",
          "2021-04-07T02:25:04",
          "2021-04-07T15:24:22",
          "2021-04-07T15:26:36",
          "2021-04-07T15:38:41",
          "2021-04-07T15:30:28",
          "2021-04-07T15:35:15",
          "2021-04-07T12:48:32",
          "2021-04-07T12:57:28",
          "2021-04-07T13:10:11",
          "2021-04-07T13:19:08",
          "2021-04-07T13:54:46",
          "2021-04-07T13:51:14",
          "2021-04-07T14:00:58",
          "2021-04-07T16:00:11",
          "2021-04-07T16:11:51",
          "2021-04-07T16:27:52",
          "2021-04-07T17:00:52"
         ],
         "xaxis": "x",
         "y": [
          0.047272727272727265,
          0,
          0.21212121212121213,
          0,
          0.16,
          0.10089285714285713,
          0,
          0,
          0,
          0,
          0.005050505050505063,
          0,
          0.375,
          0.5,
          0,
          0.05000000000000002,
          0,
          0.21944444444444444,
          0.2246031746031746,
          0.5,
          0,
          0.2635416666666667,
          0.44999999999999996,
          0,
          0.31666666666666665,
          0.16666666666666666,
          0.2,
          0,
          0.10400000000000001,
          0.7,
          0,
          0,
          0,
          0.22023809523809523,
          0,
          0,
          0.005555555555555564,
          0.2607142857142857,
          0.04414335664335664,
          0.48333333333333334,
          0.1685185185185185,
          0,
          0,
          0.1,
          0,
          0,
          0,
          0,
          0,
          0.20378787878787877,
          0.07086419753086419,
          0.2857142857142857,
          0.5166666666666666,
          0.055769230769230765,
          0,
          0.3111111111111111,
          0,
          0.22272727272727275,
          0.21491228070175442,
          0.07142857142857142,
          0.10833333333333332,
          0.01875000000000001,
          0.10833333333333332,
          0.10833333333333332,
          0.10833333333333332,
          0,
          0.14,
          0.24659090909090908,
          0.18201754385964913,
          0.15000000000000002,
          0,
          0,
          0,
          0.55,
          0.2,
          0.2
         ],
         "yaxis": "y"
        },
        {
         "customdata": [
          [
           "mabelmagalhaes",
           "/r/COVID/comments/mlk9zh/tested_negative_twice_but_still_feeling_some/gtm6sz1/",
           "I agree it could be the flu as far as I know or co"
          ],
          [
           "Thud2",
           "/r/COVID/comments/mm0usu/morgan_freeman_rips_antivaxxers_on_daily_show_get/gtp5dcv/",
           "The mRNA from the mRNA vaccines do not interact wi"
          ],
          [
           "GrouchoBark",
           "/r/COVID/comments/mko2b9/vaccinations_vs_current_variants_need_perspective/gtirb1k/",
           "I totally agree with your assessment. With the “be"
          ],
          [
           "boomerismylastname",
           "/r/COVID/comments/ml9a8s/april_2020/gtk3hnp/",
           "Not when nurses and other health care workers are "
          ],
          [
           "roberj11",
           "/r/COVID/comments/ml9a8s/april_2020/gtk9tda/",
           "So you only left your home 20 times in a whole yea"
          ],
          [
           "GrouchoBark",
           "/r/COVID/comments/ml8rwo/i_may_be_infected/gtkbehd/",
           "You know the answer, act as you are infected until"
          ],
          [
           "shugzybossman",
           "/r/COVID/comments/mjxkj2/covid_sucks_rant/gtkjpga/",
           "You must be really embarrassed then being correcte"
          ],
          [
           "mikkimball0664",
           "/r/COVID/comments/mkidkd/anyone_w_diabetes_who_has_been_vaccinated/gtmkm4t/",
           "I was sick for three days after the first  to a mo"
          ],
          [
           "roberj11",
           "/r/COVID/comments/ml9a8s/april_2020/gtloqu0/",
           "I am certainly not a COVID denier nor anti vaccine"
          ],
          [
           "6018674512",
           "/r/COVID/comments/mibnss/asu_watching_new_covid19_arizona_variant_with_a/gti1vuy/",
           "You should probably smoke a little less weed."
          ],
          [
           "cucumbersnails",
           "/r/COVID/comments/mkr0yh/vaccine_effects_on_ferritin_levels/gti6oxt/",
           "Iron definitely is such a common diagnosis, the va"
          ],
          [
           "Haykat12",
           "/r/COVID/comments/mkk1pm/exposed_to_covid_day_of_first_vaccine/gti6rcy/",
           "But what’s strange is my county is now only consid"
          ],
          [
           "iDioticArmyBianca",
           "/r/COVID/comments/mkenlf/so_i_made_a_poster/gtkw9fd/",
           "Oh yea u are!! \nFacts abt u being stupid:)"
          ],
          [
           "Ok-Requirement-2992",
           "/r/COVID/comments/mkenlf/so_i_made_a_poster/gtkypww/",
           "False facts &lt;33"
          ],
          [
           "sneakpeekbot",
           "/r/COVID/comments/mkenlf/so_i_made_a_poster/gtkxajp/",
           "Here's a sneak peek of /r/tooktoomuch using the [t"
          ],
          [
           "boomerismylastname",
           "/r/COVID/comments/ml9a8s/april_2020/gtl9ep2/",
           "Okay the apartment prices in the area sky rocketed"
          ],
          [
           "DeliatheDragon",
           "/r/COVID/comments/mlp6id/why_arent_there_full_lockdowns_anymore/gtndkpr/",
           "Because humans are naturally social animals. We ar"
          ],
          [
           "Sewreader",
           "/r/COVID/comments/mlshvp/covid_long_haul/gto1y23/",
           "It can take a long time to get over. Write down wh"
          ],
          [
           "roberj11",
           "/r/COVID/comments/mlnnx9/a_covid_vaccine_side_effect_enlarged_lymph_nodes/gto94d5/",
           "Even if they did have cancer the emergency room or"
          ],
          [
           "hitwallinfashion-13-",
           "/r/COVID/comments/mlxalu/would_covid_vaccine_kill_you_in_few_years/gtobugy/",
           "You can take the historian approach and wait 10 ye"
          ],
          [
           "Obvious_Stuff3193",
           "/r/COVID/comments/mm10be/covid_vaccine_why_or_why_shouldnt_i_get_it/gtp09zg/",
           "I'll say one thing. NO ONE has died from the vacci"
          ],
          [
           "Thud2",
           "/r/COVID/comments/mkg9h0/covid_arm_never_left/gtnv7rj/",
           "I'm sorry. I apologized because I thought you were"
          ],
          [
           "EntireCalligrapher26",
           "/r/COVID/comments/mlnme3/have_an_vax_appt_but_on_the_fence/gtomji1/",
           "Sorry but you don't have degrees or are trained in"
          ],
          [
           "Courtneyjanebeasley",
           "/r/COVID/comments/mm60oa/is_there_a_chance_i_had_covid_in_february_2020/gtped3y/",
           "Sorry to hear that. I got an antibody test in Dece"
          ]
         ],
         "hoverlabel": {
          "namelength": 0
         },
         "hovertemplate": "sentiment=negative<br>Date, comment was posted on=%{x}<br>Comment positivity=%{y}<br>author=%{customdata[0]}<br>permalink=%{customdata[1]}<br>preview=%{customdata[2]}",
         "legendgroup": "negative",
         "marker": {
          "color": "indianred",
          "symbol": "circle"
         },
         "mode": "markers",
         "name": "negative",
         "showlegend": true,
         "type": "scatter",
         "x": [
          "2021-04-06T21:15:59",
          "2021-04-07T15:33:23",
          "2021-04-06T01:22:50",
          "2021-04-06T11:29:56",
          "2021-04-06T12:38:07",
          "2021-04-06T12:52:58",
          "2021-04-06T14:03:09",
          "2021-04-06T23:09:04",
          "2021-04-06T19:04:55",
          "2021-04-05T21:47:57",
          "2021-04-05T22:27:26",
          "2021-04-05T22:27:59",
          "2021-04-06T15:37:45",
          "2021-04-06T15:55:45",
          "2021-04-06T15:45:21",
          "2021-04-06T17:12:57",
          "2021-04-07T03:21:06",
          "2021-04-07T08:47:39",
          "2021-04-07T10:40:23",
          "2021-04-07T11:16:33",
          "2021-04-07T14:55:35",
          "2021-04-07T06:58:57",
          "2021-04-07T13:06:29",
          "2021-04-07T16:37:42"
         ],
         "xaxis": "x",
         "y": [
          -0.19999999999999998,
          -0.15611111111111112,
          -0.019999999999999997,
          -0.006944444444444457,
          -0.09444444444444444,
          -0.1,
          -0.1277777777777778,
          -0.2785714285714286,
          -0.02669172932330827,
          -0.17708333333333331,
          -0.019999999999999997,
          -0.11846938775510206,
          -0.14999999999999997,
          -0.4000000000000001,
          -0.325,
          -0.00678571428571427,
          -0.0941136641136641,
          -0.03811728395061729,
          -0.023690476190476196,
          -0.5,
          -0.02690476190476191,
          -0.2333333333333333,
          -0.4444444444444444,
          -0.4
         ],
         "yaxis": "y"
        }
       ],
       "layout": {
        "legend": {
         "title": {
          "text": "sentiment"
         },
         "tracegroupgap": 0
        },
        "template": {
         "data": {
          "bar": [
           {
            "error_x": {
             "color": "#2a3f5f"
            },
            "error_y": {
             "color": "#2a3f5f"
            },
            "marker": {
             "line": {
              "color": "#E5ECF6",
              "width": 0.5
             }
            },
            "type": "bar"
           }
          ],
          "barpolar": [
           {
            "marker": {
             "line": {
              "color": "#E5ECF6",
              "width": 0.5
             }
            },
            "type": "barpolar"
           }
          ],
          "carpet": [
           {
            "aaxis": {
             "endlinecolor": "#2a3f5f",
             "gridcolor": "white",
             "linecolor": "white",
             "minorgridcolor": "white",
             "startlinecolor": "#2a3f5f"
            },
            "baxis": {
             "endlinecolor": "#2a3f5f",
             "gridcolor": "white",
             "linecolor": "white",
             "minorgridcolor": "white",
             "startlinecolor": "#2a3f5f"
            },
            "type": "carpet"
           }
          ],
          "choropleth": [
           {
            "colorbar": {
             "outlinewidth": 0,
             "ticks": ""
            },
            "type": "choropleth"
           }
          ],
          "contour": [
           {
            "colorbar": {
             "outlinewidth": 0,
             "ticks": ""
            },
            "colorscale": [
             [
              0,
              "#0d0887"
             ],
             [
              0.1111111111111111,
              "#46039f"
             ],
             [
              0.2222222222222222,
              "#7201a8"
             ],
             [
              0.3333333333333333,
              "#9c179e"
             ],
             [
              0.4444444444444444,
              "#bd3786"
             ],
             [
              0.5555555555555556,
              "#d8576b"
             ],
             [
              0.6666666666666666,
              "#ed7953"
             ],
             [
              0.7777777777777778,
              "#fb9f3a"
             ],
             [
              0.8888888888888888,
              "#fdca26"
             ],
             [
              1,
              "#f0f921"
             ]
            ],
            "type": "contour"
           }
          ],
          "contourcarpet": [
           {
            "colorbar": {
             "outlinewidth": 0,
             "ticks": ""
            },
            "type": "contourcarpet"
           }
          ],
          "heatmap": [
           {
            "colorbar": {
             "outlinewidth": 0,
             "ticks": ""
            },
            "colorscale": [
             [
              0,
              "#0d0887"
             ],
             [
              0.1111111111111111,
              "#46039f"
             ],
             [
              0.2222222222222222,
              "#7201a8"
             ],
             [
              0.3333333333333333,
              "#9c179e"
             ],
             [
              0.4444444444444444,
              "#bd3786"
             ],
             [
              0.5555555555555556,
              "#d8576b"
             ],
             [
              0.6666666666666666,
              "#ed7953"
             ],
             [
              0.7777777777777778,
              "#fb9f3a"
             ],
             [
              0.8888888888888888,
              "#fdca26"
             ],
             [
              1,
              "#f0f921"
             ]
            ],
            "type": "heatmap"
           }
          ],
          "heatmapgl": [
           {
            "colorbar": {
             "outlinewidth": 0,
             "ticks": ""
            },
            "colorscale": [
             [
              0,
              "#0d0887"
             ],
             [
              0.1111111111111111,
              "#46039f"
             ],
             [
              0.2222222222222222,
              "#7201a8"
             ],
             [
              0.3333333333333333,
              "#9c179e"
             ],
             [
              0.4444444444444444,
              "#bd3786"
             ],
             [
              0.5555555555555556,
              "#d8576b"
             ],
             [
              0.6666666666666666,
              "#ed7953"
             ],
             [
              0.7777777777777778,
              "#fb9f3a"
             ],
             [
              0.8888888888888888,
              "#fdca26"
             ],
             [
              1,
              "#f0f921"
             ]
            ],
            "type": "heatmapgl"
           }
          ],
          "histogram": [
           {
            "marker": {
             "colorbar": {
              "outlinewidth": 0,
              "ticks": ""
             }
            },
            "type": "histogram"
           }
          ],
          "histogram2d": [
           {
            "colorbar": {
             "outlinewidth": 0,
             "ticks": ""
            },
            "colorscale": [
             [
              0,
              "#0d0887"
             ],
             [
              0.1111111111111111,
              "#46039f"
             ],
             [
              0.2222222222222222,
              "#7201a8"
             ],
             [
              0.3333333333333333,
              "#9c179e"
             ],
             [
              0.4444444444444444,
              "#bd3786"
             ],
             [
              0.5555555555555556,
              "#d8576b"
             ],
             [
              0.6666666666666666,
              "#ed7953"
             ],
             [
              0.7777777777777778,
              "#fb9f3a"
             ],
             [
              0.8888888888888888,
              "#fdca26"
             ],
             [
              1,
              "#f0f921"
             ]
            ],
            "type": "histogram2d"
           }
          ],
          "histogram2dcontour": [
           {
            "colorbar": {
             "outlinewidth": 0,
             "ticks": ""
            },
            "colorscale": [
             [
              0,
              "#0d0887"
             ],
             [
              0.1111111111111111,
              "#46039f"
             ],
             [
              0.2222222222222222,
              "#7201a8"
             ],
             [
              0.3333333333333333,
              "#9c179e"
             ],
             [
              0.4444444444444444,
              "#bd3786"
             ],
             [
              0.5555555555555556,
              "#d8576b"
             ],
             [
              0.6666666666666666,
              "#ed7953"
             ],
             [
              0.7777777777777778,
              "#fb9f3a"
             ],
             [
              0.8888888888888888,
              "#fdca26"
             ],
             [
              1,
              "#f0f921"
             ]
            ],
            "type": "histogram2dcontour"
           }
          ],
          "mesh3d": [
           {
            "colorbar": {
             "outlinewidth": 0,
             "ticks": ""
            },
            "type": "mesh3d"
           }
          ],
          "parcoords": [
           {
            "line": {
             "colorbar": {
              "outlinewidth": 0,
              "ticks": ""
             }
            },
            "type": "parcoords"
           }
          ],
          "pie": [
           {
            "automargin": true,
            "type": "pie"
           }
          ],
          "scatter": [
           {
            "marker": {
             "colorbar": {
              "outlinewidth": 0,
              "ticks": ""
             }
            },
            "type": "scatter"
           }
          ],
          "scatter3d": [
           {
            "line": {
             "colorbar": {
              "outlinewidth": 0,
              "ticks": ""
             }
            },
            "marker": {
             "colorbar": {
              "outlinewidth": 0,
              "ticks": ""
             }
            },
            "type": "scatter3d"
           }
          ],
          "scattercarpet": [
           {
            "marker": {
             "colorbar": {
              "outlinewidth": 0,
              "ticks": ""
             }
            },
            "type": "scattercarpet"
           }
          ],
          "scattergeo": [
           {
            "marker": {
             "colorbar": {
              "outlinewidth": 0,
              "ticks": ""
             }
            },
            "type": "scattergeo"
           }
          ],
          "scattergl": [
           {
            "marker": {
             "colorbar": {
              "outlinewidth": 0,
              "ticks": ""
             }
            },
            "type": "scattergl"
           }
          ],
          "scattermapbox": [
           {
            "marker": {
             "colorbar": {
              "outlinewidth": 0,
              "ticks": ""
             }
            },
            "type": "scattermapbox"
           }
          ],
          "scatterpolar": [
           {
            "marker": {
             "colorbar": {
              "outlinewidth": 0,
              "ticks": ""
             }
            },
            "type": "scatterpolar"
           }
          ],
          "scatterpolargl": [
           {
            "marker": {
             "colorbar": {
              "outlinewidth": 0,
              "ticks": ""
             }
            },
            "type": "scatterpolargl"
           }
          ],
          "scatterternary": [
           {
            "marker": {
             "colorbar": {
              "outlinewidth": 0,
              "ticks": ""
             }
            },
            "type": "scatterternary"
           }
          ],
          "surface": [
           {
            "colorbar": {
             "outlinewidth": 0,
             "ticks": ""
            },
            "colorscale": [
             [
              0,
              "#0d0887"
             ],
             [
              0.1111111111111111,
              "#46039f"
             ],
             [
              0.2222222222222222,
              "#7201a8"
             ],
             [
              0.3333333333333333,
              "#9c179e"
             ],
             [
              0.4444444444444444,
              "#bd3786"
             ],
             [
              0.5555555555555556,
              "#d8576b"
             ],
             [
              0.6666666666666666,
              "#ed7953"
             ],
             [
              0.7777777777777778,
              "#fb9f3a"
             ],
             [
              0.8888888888888888,
              "#fdca26"
             ],
             [
              1,
              "#f0f921"
             ]
            ],
            "type": "surface"
           }
          ],
          "table": [
           {
            "cells": {
             "fill": {
              "color": "#EBF0F8"
             },
             "line": {
              "color": "white"
             }
            },
            "header": {
             "fill": {
              "color": "#C8D4E3"
             },
             "line": {
              "color": "white"
             }
            },
            "type": "table"
           }
          ]
         },
         "layout": {
          "annotationdefaults": {
           "arrowcolor": "#2a3f5f",
           "arrowhead": 0,
           "arrowwidth": 1
          },
          "coloraxis": {
           "colorbar": {
            "outlinewidth": 0,
            "ticks": ""
           }
          },
          "colorscale": {
           "diverging": [
            [
             0,
             "#8e0152"
            ],
            [
             0.1,
             "#c51b7d"
            ],
            [
             0.2,
             "#de77ae"
            ],
            [
             0.3,
             "#f1b6da"
            ],
            [
             0.4,
             "#fde0ef"
            ],
            [
             0.5,
             "#f7f7f7"
            ],
            [
             0.6,
             "#e6f5d0"
            ],
            [
             0.7,
             "#b8e186"
            ],
            [
             0.8,
             "#7fbc41"
            ],
            [
             0.9,
             "#4d9221"
            ],
            [
             1,
             "#276419"
            ]
           ],
           "sequential": [
            [
             0,
             "#0d0887"
            ],
            [
             0.1111111111111111,
             "#46039f"
            ],
            [
             0.2222222222222222,
             "#7201a8"
            ],
            [
             0.3333333333333333,
             "#9c179e"
            ],
            [
             0.4444444444444444,
             "#bd3786"
            ],
            [
             0.5555555555555556,
             "#d8576b"
            ],
            [
             0.6666666666666666,
             "#ed7953"
            ],
            [
             0.7777777777777778,
             "#fb9f3a"
            ],
            [
             0.8888888888888888,
             "#fdca26"
            ],
            [
             1,
             "#f0f921"
            ]
           ],
           "sequentialminus": [
            [
             0,
             "#0d0887"
            ],
            [
             0.1111111111111111,
             "#46039f"
            ],
            [
             0.2222222222222222,
             "#7201a8"
            ],
            [
             0.3333333333333333,
             "#9c179e"
            ],
            [
             0.4444444444444444,
             "#bd3786"
            ],
            [
             0.5555555555555556,
             "#d8576b"
            ],
            [
             0.6666666666666666,
             "#ed7953"
            ],
            [
             0.7777777777777778,
             "#fb9f3a"
            ],
            [
             0.8888888888888888,
             "#fdca26"
            ],
            [
             1,
             "#f0f921"
            ]
           ]
          },
          "colorway": [
           "#636efa",
           "#EF553B",
           "#00cc96",
           "#ab63fa",
           "#FFA15A",
           "#19d3f3",
           "#FF6692",
           "#B6E880",
           "#FF97FF",
           "#FECB52"
          ],
          "font": {
           "color": "#2a3f5f"
          },
          "geo": {
           "bgcolor": "white",
           "lakecolor": "white",
           "landcolor": "#E5ECF6",
           "showlakes": true,
           "showland": true,
           "subunitcolor": "white"
          },
          "hoverlabel": {
           "align": "left"
          },
          "hovermode": "closest",
          "mapbox": {
           "style": "light"
          },
          "paper_bgcolor": "white",
          "plot_bgcolor": "#E5ECF6",
          "polar": {
           "angularaxis": {
            "gridcolor": "white",
            "linecolor": "white",
            "ticks": ""
           },
           "bgcolor": "#E5ECF6",
           "radialaxis": {
            "gridcolor": "white",
            "linecolor": "white",
            "ticks": ""
           }
          },
          "scene": {
           "xaxis": {
            "backgroundcolor": "#E5ECF6",
            "gridcolor": "white",
            "gridwidth": 2,
            "linecolor": "white",
            "showbackground": true,
            "ticks": "",
            "zerolinecolor": "white"
           },
           "yaxis": {
            "backgroundcolor": "#E5ECF6",
            "gridcolor": "white",
            "gridwidth": 2,
            "linecolor": "white",
            "showbackground": true,
            "ticks": "",
            "zerolinecolor": "white"
           },
           "zaxis": {
            "backgroundcolor": "#E5ECF6",
            "gridcolor": "white",
            "gridwidth": 2,
            "linecolor": "white",
            "showbackground": true,
            "ticks": "",
            "zerolinecolor": "white"
           }
          },
          "shapedefaults": {
           "line": {
            "color": "#2a3f5f"
           }
          },
          "ternary": {
           "aaxis": {
            "gridcolor": "white",
            "linecolor": "white",
            "ticks": ""
           },
           "baxis": {
            "gridcolor": "white",
            "linecolor": "white",
            "ticks": ""
           },
           "bgcolor": "#E5ECF6",
           "caxis": {
            "gridcolor": "white",
            "linecolor": "white",
            "ticks": ""
           }
          },
          "title": {
           "x": 0.05
          },
          "xaxis": {
           "automargin": true,
           "gridcolor": "white",
           "linecolor": "white",
           "ticks": "",
           "title": {
            "standoff": 15
           },
           "zerolinecolor": "white",
           "zerolinewidth": 2
          },
          "yaxis": {
           "automargin": true,
           "gridcolor": "white",
           "linecolor": "white",
           "ticks": "",
           "title": {
            "standoff": 15
           },
           "zerolinecolor": "white",
           "zerolinewidth": 2
          }
         }
        },
        "title": {
         "text": "Comment sentiment in /r/covid for the past 48h"
        },
        "xaxis": {
         "anchor": "y",
         "domain": [
          0,
          1
         ],
         "title": {
          "text": "Date, comment was posted on"
         }
        },
        "yaxis": {
         "anchor": "x",
         "domain": [
          0,
          1
         ],
         "title": {
          "text": "Comment positivity"
         }
        }
       }
      },
      "text/html": [
       "<div>\n",
       "        \n",
       "        \n",
       "            <div id=\"798e1611-7f01-4234-93dc-a22513920b25\" class=\"plotly-graph-div\" style=\"height:525px; width:100%;\"></div>\n",
       "            <script type=\"text/javascript\">\n",
       "                require([\"plotly\"], function(Plotly) {\n",
       "                    window.PLOTLYENV=window.PLOTLYENV || {};\n",
       "                    \n",
       "                if (document.getElementById(\"798e1611-7f01-4234-93dc-a22513920b25\")) {\n",
       "                    Plotly.newPlot(\n",
       "                        '798e1611-7f01-4234-93dc-a22513920b25',\n",
       "                        [{\"customdata\": [[\"ObjectiveToe8023\", \"/r/COVID/comments/mlp6id/why_arent_there_full_lockdowns_anymore/gtmps83/\", \"Human beings are not meant to live like we have be\"], [\"PM_ME_YOUR_KANKLES\", \"/r/COVID/comments/mkvr0q/no_to_covid_passports_please_sign/gti7hh3/\", \"Can you link me to one that supports covid passpor\"], [\"MichioBu\", \"/r/COVID/comments/mlp6id/why_arent_there_full_lockdowns_anymore/gtmt24k/\", \"Why aren't people able to understand that restrict\"], [\"EntireCalligrapher26\", \"/r/COVID/comments/mkx3on/outdoor_transmissions_accounts_for_01_of_the/gtie93r/\", \"Tell this to people walking alone with a mask on.\"], [\"GrouchoBark\", \"/r/COVID/comments/mlk9zh/tested_negative_twice_but_still_feeling_some/gtm5l4t/\", \"You don\\u2019t mention what type of test. rapid or PCR.\"], [\"agkemp97\", \"/r/COVID/comments/mkr0yh/vaccine_effects_on_ferritin_levels/gthtthi/\", \"I\\u2019ve heard of some vaccines in general causing idi\"], [\"Your-Mask-Is-Tinfoil\", \"/r/COVID/comments/mkttca/if_the_cdc_determines_that_vaccinated_people_have/gthsqds/\", \"No.\"], [\"Princelisa6\", \"/r/COVID/comments/mlnme3/have_an_vax_appt_but_on_the_fence/gtmp2t7/\", \"Get it .I got 2 Moderna and my anxiety about contr\"], [\"Thud2\", \"/r/COVID/comments/mm0usu/morgan_freeman_rips_antivaxxers_on_daily_show_get/gtp0orh/\", \"Why do you think the vaccine is gene therapy?\"], [\"dibernap\", \"/r/COVID/comments/mkx3on/outdoor_transmissions_accounts_for_01_of_the/gtix590/\", \"This is news?\"], [\"SXFlyer\", \"/r/COVID/comments/mkxznl/why_isnt_there_more_walk_in_covid_testing/gtigmyu/\", \"That sucks. But isn\\u2019t New York state now allowing \"], [\"Marlin3360\", \"/r/COVID/comments/mlp6id/why_arent_there_full_lockdowns_anymore/gtmwhv8/\", \"Take the vaccine, follow mask protocol, don\\u2019t be a\"], [\"iDioticArmyBianca\", \"/r/COVID/comments/mkenlf/so_i_made_a_poster/gtkx1ho/\", \"I LIKE UR FUNNY WORDS MAGIC MAN AGAHHAHAHAHAHA\"], [\"iDioticArmyBianca\", \"/r/COVID/comments/mkenlf/so_i_made_a_poster/gtkxd7u/\", \"nah mate thats u :)\"], [\"iDioticArmyBianca\", \"/r/COVID/comments/mkenlf/so_i_made_a_poster/gtkzle9/\", \"GO OFF\\ud83d\\udc4f\\ud83d\\udc4f\\ud83d\\udc4f\\ud83d\\udc4f\"], [\"nancylyn\", \"/r/COVID/comments/mlnme3/have_an_vax_appt_but_on_the_fence/gtn2o8r/\", \"Well, i read the rates of blood clots in the group\"], [\"PETESPETESPETES\", \"/r/COVID/comments/mlnme3/have_an_vax_appt_but_on_the_fence/gtn3do2/\", \"I thought you could still catch it?\"], [\"username-loadingg\", \"/r/COVID/comments/mlnme3/have_an_vax_appt_but_on_the_fence/gtmlk8c/\", \"My friend got the J&amp;J vaccine a week ago and h\"], [\"d-r_s-e-u-s-s\", \"/r/COVID/comments/mlnme3/have_an_vax_appt_but_on_the_fence/gtmxz4u/\", \"Can I ask in your opinion, is the scare mongering \"], [\"YYR123\", \"/r/COVID/comments/mlnme3/have_an_vax_appt_but_on_the_fence/gtn6sdq/\", \"Push through and get it. You\\u2019ll feel so much bette\"], [\"CoconutAlert9046\", \"/r/COVID/comments/mlf752/i_have_nothing_to_do/gtl0ylb/\", \"Usa have cured cancer but arent releasing the anti\"], [\"jmoney3001\", \"/r/COVID/comments/ml9a8s/april_2020/gtkw30c/\", \"Fuck this guy. You are surviving a terrible and do\"], [\"nazarlawshawdee\", \"/r/COVID/comments/ml9a8s/april_2020/gtkxd9l/\", \"This sub is full of covid-denying antivax q-anon c\"], [\"GrouchoBark\", \"/r/COVID/comments/mlk9zh/tested_negative_twice_but_still_feeling_some/gtm6lwl/\", \"There\\u2019s all sorts of stuff going around besides co\"], [\"No-Independence-6842\", \"/r/COVID/comments/mlshvp/covid_long_haul/gtna9qy/\", \"It\\u2019s so interesting how COVID effects people. I wa\"], [\"Bovinius__Cudd\", \"/r/COVID/comments/mm0usu/morgan_freeman_rips_antivaxxers_on_daily_show_get/gtp9pag/\", \"What the fuck is this sub?  \\n\\nThe ratio of critica\"], [\"EnvironmentalSalt107\", \"/r/COVID/comments/mks452/came_into_contact_with_someone_who_had_covid_and/gthjifa/\", \"Thanks. If I do get it though, I know where to poi\"], [\"Your-Mask-Is-Tinfoil\", \"/r/COVID/comments/mks452/came_into_contact_with_someone_who_had_covid_and/gthmc1x/\", \"are you obese? 89% of covid deaths were people who\"], [\"lbeesknees\", \"/r/COVID/comments/mkg9h0/covid_arm_never_left/gthmcec/\", \"ah thank you! that\\u2019s so helpful. I was just thinki\"], [\"StudentInvestor1\", \"/r/COVID/comments/mks452/came_into_contact_with_someone_who_had_covid_and/gthjdi9/\", \"Good for you. You\\u2019re also a good brother as well.\"], [\"Mycatreallyhatesyou\", \"/r/COVID/comments/mimoyh/if_i_have_received_both_vaccines_do_i_still_need/gthmqts/\", \"Get over it, trump lost.\"], [\"kaos_hybryd\", \"/r/COVID/comments/mibnss/asu_watching_new_covid19_arizona_variant_with_a/gtib1xz/\", \"Your level of sarcasm is far beyond what I expecte\"], [\"Beep1776\", \"/r/COVID/comments/mibnss/asu_watching_new_covid19_arizona_variant_with_a/gtiv54o/\", \"Read r/Covidlonghaulers.\"], [\"playmorezeppelin\", \"/r/COVID/comments/mkenlf/so_i_made_a_poster/gtk68ua/\", \"How do you explain Texas doing better than other s\"], [\"thorniodas\", \"/r/COVID/comments/ml9hpp/getting_vaccine_on_friday_but_i_work_friday_night/gtk5rmg/\", \"My arm was sore as was the spot between my shoulde\"], [\"iDioticArmyBianca\", \"/r/COVID/comments/mkenlf/so_i_made_a_poster/gtk7acd/\", \"Well i dont know maybe its because im not in ameri\"], [\"SXFlyer\", \"/r/COVID/comments/mladms/does_lockdown_is_necessary/gtke6o5/\", \"if we didn\\u2019t have the first lockdown (March - May \"], [\"roberj11\", \"/r/COVID/comments/ml9a8s/april_2020/gtkdt6o/\", \"I'm sick to death of hearing from the \\\"I know a pe\"], [\"roberj11\", \"/r/COVID/comments/ml9a8s/april_2020/gtkgnmx/\", \"Well you did mention your health. You didn\\u2019t want \"], [\"jmoney3001\", \"/r/COVID/comments/ml9a8s/april_2020/gtm1as0/\", \"Captain America voice: I can do this all day\\n\\nlmao\"], [\"EntireCalligrapher26\", \"/r/COVID/comments/mlis3a/the_latest_news_on_covid19_developments_in_canada/gtlnmt1/\", \"Better shut the whole country down again!\"], [\"McKeldinDangler\", \"/r/COVID/comments/mlf4i5/deaths_in_vaccine_adverse_event_reporting_system/gtlqoxo/\", \"Agreed, ratio is key here\"], [\"_QUAKE_\", \"/r/COVID/comments/mkk1pm/exposed_to_covid_day_of_first_vaccine/gti2rcj/\", \"Keep us updated.\"], [\"PedroLopes_5\", \"/r/COVID/comments/mkvr0q/no_to_covid_passports_please_sign/gti3pjd/\", \"This is an old petition\"], [\"Saaeeek\", \"/r/COVID/comments/mkvr0q/no_to_covid_passports_please_sign/gti7k2s/\", \"that\\u2019s a worrying stance\"], [\"shugzybossman\", \"/r/COVID/comments/mjxkj2/covid_sucks_rant/gtjindb/\", \"You're *\"], [\"Thud2\", \"/r/COVID/comments/mkg9h0/covid_arm_never_left/gtjt6nq/\", \"Is aganst law\"], [\"Ok-Requirement-2992\", \"/r/COVID/comments/mlf752/i_have_nothing_to_do/gtl2xvy/\", \"That is definitely something America would do.\"], [\"Ok-Requirement-2992\", \"/r/COVID/comments/mkenlf/so_i_made_a_poster/gtl3a1q/\", \"OH GOD, I THOUGHT GEN Z KNEW ATLEAST SOMETHING.\"], [\"boomerismylastname\", \"/r/COVID/comments/ml9a8s/april_2020/gtkql8c/\", \"I live in my roommates house not the other way aro\"], [\"Dwaiko\", \"/r/COVID/comments/mladms/does_lockdown_is_necessary/gtmtb9i/\", \"This pandemic proved a lot to all of us all around\"], [\"roberj11\", \"/r/COVID/comments/mlnnx9/a_covid_vaccine_side_effect_enlarged_lymph_nodes/gtn9kt8/\", \"You hit the nail on the head by using \\u201cEmergency R\"], [\"Thud2\", \"/r/COVID/comments/mlshvp/covid_long_haul/gtnd09y/\", \"Hopefully it will run it's course. They are doing \"], [\"Your-Mask-Is-Tinfoil\", \"/r/COVID/comments/mlxalu/would_covid_vaccine_kill_you_in_few_years/gto4t8d/\", \"I'm not an anti-vaxxer although I do get accused o\"], [\"[deleted]\", \"/r/COVID/comments/mlnme3/have_an_vax_appt_but_on_the_fence/gtmw7xv/\", \"[removed]\"], [\"autotldr\", \"/r/COVID/comments/mkx3on/outdoor_transmissions_accounts_for_01_of_the/gtoatdg/\", \"This is the best tl;dr I could make, [original](ht\"], [\"Princelisa6\", \"/r/COVID/comments/mlnme3/have_an_vax_appt_but_on_the_fence/gtn3r1y/\", \"I had my 2nd shot 6 wks ago and I'm asthmatic w co\"], [\"DisastrousAnxiety782\", \"/r/COVID/comments/mlnme3/have_an_vax_appt_but_on_the_fence/gtn5d06/\", \"Absolutely the media plays a factor, whether its g\"], [\"esecallum\", \"/r/COVID/comments/mkg9h0/covid_arm_never_left/gtnulaa/\", \" top pharmaceutical lobbyists in 2020 included:8\\n\\n\"], [\"thepapermaker\", \"/r/COVID/comments/mlnnx9/a_covid_vaccine_side_effect_enlarged_lymph_nodes/gtn7l3o/\", \"I didn't say I thought I had cancer. I said it cou\"], [\"notanotherdumbnpc\", \"/r/COVID/comments/mm0usu/morgan_freeman_rips_antivaxxers_on_daily_show_get/gtp44ys/\", \"How dumb must someone be to take an experimental '\"], [\"shugzybossman\", \"/r/COVID/comments/mm10be/covid_vaccine_why_or_why_shouldnt_i_get_it/gtp4fva/\", \"\\nThe huge part you're not factoring in this is 99%\"], [\"notanotherdumbnpc\", \"/r/COVID/comments/ml9hpp/getting_vaccine_on_friday_but_i_work_friday_night/gtp645p/\", \"Don't do it!!!!\\n\\n\\nHow dumb must someone be to take\"], [\"notanotherdumbnpc\", \"/r/COVID/comments/mls5oj/covid19_survivors_suffer_brain_disease/gtp4z0i/\", \"Covid 19 doomers suffer brain disease.\\n\\nHow dumb m\"], [\"notanotherdumbnpc\", \"/r/COVID/comments/mlnnx9/a_covid_vaccine_side_effect_enlarged_lymph_nodes/gtp5msz/\", \"How dumb must someone be to take an experimental '\"], [\"EntireCalligrapher26\", \"/r/COVID/comments/mlnme3/have_an_vax_appt_but_on_the_fence/gtokiq2/\", \"Are you trained in those fields?\"], [\"Thud2\", \"/r/COVID/comments/mlnme3/have_an_vax_appt_but_on_the_fence/gtolis6/\", \"Again I ask you how does a supposed first responde\"], [\"meekonesfade\", \"/r/COVID/comments/mm00z9/vaccination_in_usa/gtomyty/\", \"I am pretty sure you will have to wait.  As far as\"], [\"esecallum\", \"/r/COVID/comments/mkg9h0/covid_arm_never_left/gtoo0tq/\", \"After PhRMA, other top pharmaceutical lobbyists in\"], [\"Thud2\", \"/r/COVID/comments/mkg9h0/covid_arm_never_left/gtose89/\", \"Wow, let me get this straight. There's a *conspira\"], [\"Glittering_Layer_681\", \"/r/COVID/comments/mls5oj/covid19_survivors_suffer_brain_disease/gtorxyo/\", \"https://www.cnn.com/2021/04/06/health/covid-neurol\"], [\"Glittering_Layer_681\", \"/r/COVID/comments/mlu6al/big_zoomable_graphic_of_c19_vaccine_testimonials/gtot6nd/\", \"https://www.cnn.com/2021/04/06/health/covid-neurol\"], [\"KellySharpee\", \"/r/COVID/comments/mlshvp/covid_long_haul/gtp93rt/\", \"I\\u2019ve got same, had covid back in November and now \"], [\"shugzybossman\", \"/r/COVID/comments/mm10be/covid_vaccine_why_or_why_shouldnt_i_get_it/gtpaq3v/\", \"Well use the data you have then.\\n\\n45000\\n\\nAnd 1500 \"], [\"Ancient-Signal3923\", \"/r/COVID/comments/mm0usu/morgan_freeman_rips_antivaxxers_on_daily_show_get/gtpczqe/\", \"Wonder if Billy Gates and his wife has had a real \"], [\"AcanthisittaCool6762\", \"/r/COVID/comments/mm00z9/vaccination_in_usa/gtphmu5/\", \"Thats kind of what I figured. Im trying to see if \"]], \"hoverlabel\": {\"namelength\": 0}, \"hovertemplate\": \"sentiment=positive<br>Date, comment was posted on=%{x}<br>Comment positivity=%{y}<br>author=%{customdata[0]}<br>permalink=%{customdata[1]}<br>preview=%{customdata[2]}\", \"legendgroup\": \"positive\", \"marker\": {\"color\": \"lightseagreen\", \"symbol\": \"circle\"}, \"mode\": \"markers\", \"name\": \"positive\", \"showlegend\": true, \"type\": \"scatter\", \"x\": [\"2021-04-06T23:52:42\", \"2021-04-05T22:34:07\", \"2021-04-07T00:20:34\", \"2021-04-05T23:31:24\", \"2021-04-06T21:06:40\", \"2021-04-05T20:44:53\", \"2021-04-05T20:36:31\", \"2021-04-06T23:46:33\", \"2021-04-07T14:58:42\", \"2021-04-06T02:13:24\", \"2021-04-05T23:52:02\", \"2021-04-07T00:49:53\", \"2021-04-06T15:43:31\", \"2021-04-06T15:45:54\", \"2021-04-06T16:02:06\", \"2021-04-07T01:42:02\", \"2021-04-07T01:48:02\", \"2021-04-06T23:16:59\", \"2021-04-07T01:02:33\", \"2021-04-07T02:18:04\", \"2021-04-06T16:12:10\", \"2021-04-06T15:36:26\", \"2021-04-06T15:45:54\", \"2021-04-06T21:14:28\", \"2021-04-07T02:49:37\", \"2021-04-07T16:04:31\", \"2021-04-05T19:26:24\", \"2021-04-05T19:48:00\", \"2021-04-05T19:48:04\", \"2021-04-05T19:25:22\", \"2021-04-05T19:51:03\", \"2021-04-05T23:04:09\", \"2021-04-06T01:55:56\", \"2021-04-06T12:01:31\", \"2021-04-06T11:56:17\", \"2021-04-06T12:12:39\", \"2021-04-06T13:17:37\", \"2021-04-06T13:14:23\", \"2021-04-06T13:38:27\", \"2021-04-06T20:35:17\", \"2021-04-06T18:56:40\", \"2021-04-06T19:19:25\", \"2021-04-05T21:55:00\", \"2021-04-05T22:02:45\", \"2021-04-05T22:34:43\", \"2021-04-06T06:05:19\", \"2021-04-06T08:55:12\", \"2021-04-06T16:26:24\", \"2021-04-06T16:28:48\", \"2021-04-06T14:55:27\", \"2021-04-07T00:22:43\", \"2021-04-07T02:43:13\", \"2021-04-07T03:15:36\", \"2021-04-07T09:34:58\", \"2021-04-07T00:47:32\", \"2021-04-07T11:03:19\", \"2021-04-07T01:51:10\", \"2021-04-07T02:05:16\", \"2021-04-07T06:49:39\", \"2021-04-07T02:25:04\", \"2021-04-07T15:24:22\", \"2021-04-07T15:26:36\", \"2021-04-07T15:38:41\", \"2021-04-07T15:30:28\", \"2021-04-07T15:35:15\", \"2021-04-07T12:48:32\", \"2021-04-07T12:57:28\", \"2021-04-07T13:10:11\", \"2021-04-07T13:19:08\", \"2021-04-07T13:54:46\", \"2021-04-07T13:51:14\", \"2021-04-07T14:00:58\", \"2021-04-07T16:00:11\", \"2021-04-07T16:11:51\", \"2021-04-07T16:27:52\", \"2021-04-07T17:00:52\"], \"xaxis\": \"x\", \"y\": [0.047272727272727265, 0.0, 0.21212121212121213, 0.0, 0.16, 0.10089285714285713, 0.0, 0.0, 0.0, 0.0, 0.005050505050505063, 0.0, 0.375, 0.5, 0.0, 0.05000000000000002, 0.0, 0.21944444444444444, 0.2246031746031746, 0.5, 0.0, 0.2635416666666667, 0.44999999999999996, 0.0, 0.31666666666666665, 0.16666666666666666, 0.2, 0.0, 0.10400000000000001, 0.7, 0.0, 0.0, 0.0, 0.22023809523809523, 0.0, 0.0, 0.005555555555555564, 0.2607142857142857, 0.04414335664335664, 0.48333333333333334, 0.1685185185185185, 0.0, 0.0, 0.1, 0.0, 0.0, 0.0, 0.0, 0.0, 0.20378787878787877, 0.07086419753086419, 0.2857142857142857, 0.5166666666666666, 0.055769230769230765, 0.0, 0.3111111111111111, 0.0, 0.22272727272727275, 0.21491228070175442, 0.07142857142857142, 0.10833333333333332, 0.01875000000000001, 0.10833333333333332, 0.10833333333333332, 0.10833333333333332, 0.0, 0.14, 0.24659090909090908, 0.18201754385964913, 0.15000000000000002, 0.0, 0.0, 0.0, 0.55, 0.2, 0.2], \"yaxis\": \"y\"}, {\"customdata\": [[\"mabelmagalhaes\", \"/r/COVID/comments/mlk9zh/tested_negative_twice_but_still_feeling_some/gtm6sz1/\", \"I agree it could be the flu as far as I know or co\"], [\"Thud2\", \"/r/COVID/comments/mm0usu/morgan_freeman_rips_antivaxxers_on_daily_show_get/gtp5dcv/\", \"The mRNA from the mRNA vaccines do not interact wi\"], [\"GrouchoBark\", \"/r/COVID/comments/mko2b9/vaccinations_vs_current_variants_need_perspective/gtirb1k/\", \"I totally agree with your assessment. With the \\u201cbe\"], [\"boomerismylastname\", \"/r/COVID/comments/ml9a8s/april_2020/gtk3hnp/\", \"Not when nurses and other health care workers are \"], [\"roberj11\", \"/r/COVID/comments/ml9a8s/april_2020/gtk9tda/\", \"So you only left your home 20 times in a whole yea\"], [\"GrouchoBark\", \"/r/COVID/comments/ml8rwo/i_may_be_infected/gtkbehd/\", \"You know the answer, act as you are infected until\"], [\"shugzybossman\", \"/r/COVID/comments/mjxkj2/covid_sucks_rant/gtkjpga/\", \"You must be really embarrassed then being correcte\"], [\"mikkimball0664\", \"/r/COVID/comments/mkidkd/anyone_w_diabetes_who_has_been_vaccinated/gtmkm4t/\", \"I was sick for three days after the first  to a mo\"], [\"roberj11\", \"/r/COVID/comments/ml9a8s/april_2020/gtloqu0/\", \"I am certainly not a COVID denier nor anti vaccine\"], [\"6018674512\", \"/r/COVID/comments/mibnss/asu_watching_new_covid19_arizona_variant_with_a/gti1vuy/\", \"You should probably smoke a little less weed.\"], [\"cucumbersnails\", \"/r/COVID/comments/mkr0yh/vaccine_effects_on_ferritin_levels/gti6oxt/\", \"Iron definitely is such a common diagnosis, the va\"], [\"Haykat12\", \"/r/COVID/comments/mkk1pm/exposed_to_covid_day_of_first_vaccine/gti6rcy/\", \"But what\\u2019s strange is my county is now only consid\"], [\"iDioticArmyBianca\", \"/r/COVID/comments/mkenlf/so_i_made_a_poster/gtkw9fd/\", \"Oh yea u are!! \\nFacts abt u being stupid:)\"], [\"Ok-Requirement-2992\", \"/r/COVID/comments/mkenlf/so_i_made_a_poster/gtkypww/\", \"False facts &lt;33\"], [\"sneakpeekbot\", \"/r/COVID/comments/mkenlf/so_i_made_a_poster/gtkxajp/\", \"Here's a sneak peek of /r/tooktoomuch using the [t\"], [\"boomerismylastname\", \"/r/COVID/comments/ml9a8s/april_2020/gtl9ep2/\", \"Okay the apartment prices in the area sky rocketed\"], [\"DeliatheDragon\", \"/r/COVID/comments/mlp6id/why_arent_there_full_lockdowns_anymore/gtndkpr/\", \"Because humans are naturally social animals. We ar\"], [\"Sewreader\", \"/r/COVID/comments/mlshvp/covid_long_haul/gto1y23/\", \"It can take a long time to get over. Write down wh\"], [\"roberj11\", \"/r/COVID/comments/mlnnx9/a_covid_vaccine_side_effect_enlarged_lymph_nodes/gto94d5/\", \"Even if they did have cancer the emergency room or\"], [\"hitwallinfashion-13-\", \"/r/COVID/comments/mlxalu/would_covid_vaccine_kill_you_in_few_years/gtobugy/\", \"You can take the historian approach and wait 10 ye\"], [\"Obvious_Stuff3193\", \"/r/COVID/comments/mm10be/covid_vaccine_why_or_why_shouldnt_i_get_it/gtp09zg/\", \"I'll say one thing. NO ONE has died from the vacci\"], [\"Thud2\", \"/r/COVID/comments/mkg9h0/covid_arm_never_left/gtnv7rj/\", \"I'm sorry. I apologized because I thought you were\"], [\"EntireCalligrapher26\", \"/r/COVID/comments/mlnme3/have_an_vax_appt_but_on_the_fence/gtomji1/\", \"Sorry but you don't have degrees or are trained in\"], [\"Courtneyjanebeasley\", \"/r/COVID/comments/mm60oa/is_there_a_chance_i_had_covid_in_february_2020/gtped3y/\", \"Sorry to hear that. I got an antibody test in Dece\"]], \"hoverlabel\": {\"namelength\": 0}, \"hovertemplate\": \"sentiment=negative<br>Date, comment was posted on=%{x}<br>Comment positivity=%{y}<br>author=%{customdata[0]}<br>permalink=%{customdata[1]}<br>preview=%{customdata[2]}\", \"legendgroup\": \"negative\", \"marker\": {\"color\": \"indianred\", \"symbol\": \"circle\"}, \"mode\": \"markers\", \"name\": \"negative\", \"showlegend\": true, \"type\": \"scatter\", \"x\": [\"2021-04-06T21:15:59\", \"2021-04-07T15:33:23\", \"2021-04-06T01:22:50\", \"2021-04-06T11:29:56\", \"2021-04-06T12:38:07\", \"2021-04-06T12:52:58\", \"2021-04-06T14:03:09\", \"2021-04-06T23:09:04\", \"2021-04-06T19:04:55\", \"2021-04-05T21:47:57\", \"2021-04-05T22:27:26\", \"2021-04-05T22:27:59\", \"2021-04-06T15:37:45\", \"2021-04-06T15:55:45\", \"2021-04-06T15:45:21\", \"2021-04-06T17:12:57\", \"2021-04-07T03:21:06\", \"2021-04-07T08:47:39\", \"2021-04-07T10:40:23\", \"2021-04-07T11:16:33\", \"2021-04-07T14:55:35\", \"2021-04-07T06:58:57\", \"2021-04-07T13:06:29\", \"2021-04-07T16:37:42\"], \"xaxis\": \"x\", \"y\": [-0.19999999999999998, -0.15611111111111112, -0.019999999999999997, -0.006944444444444457, -0.09444444444444444, -0.1, -0.1277777777777778, -0.2785714285714286, -0.02669172932330827, -0.17708333333333331, -0.019999999999999997, -0.11846938775510206, -0.14999999999999997, -0.4000000000000001, -0.325, -0.00678571428571427, -0.0941136641136641, -0.03811728395061729, -0.023690476190476196, -0.5, -0.02690476190476191, -0.2333333333333333, -0.4444444444444444, -0.4], \"yaxis\": \"y\"}],\n",
       "                        {\"legend\": {\"title\": {\"text\": \"sentiment\"}, \"tracegroupgap\": 0}, \"template\": {\"data\": {\"bar\": [{\"error_x\": {\"color\": \"#2a3f5f\"}, \"error_y\": {\"color\": \"#2a3f5f\"}, \"marker\": {\"line\": {\"color\": \"#E5ECF6\", \"width\": 0.5}}, \"type\": \"bar\"}], \"barpolar\": [{\"marker\": {\"line\": {\"color\": \"#E5ECF6\", \"width\": 0.5}}, \"type\": \"barpolar\"}], \"carpet\": [{\"aaxis\": {\"endlinecolor\": \"#2a3f5f\", \"gridcolor\": \"white\", \"linecolor\": \"white\", \"minorgridcolor\": \"white\", \"startlinecolor\": \"#2a3f5f\"}, \"baxis\": {\"endlinecolor\": \"#2a3f5f\", \"gridcolor\": \"white\", \"linecolor\": \"white\", \"minorgridcolor\": \"white\", \"startlinecolor\": \"#2a3f5f\"}, \"type\": \"carpet\"}], \"choropleth\": [{\"colorbar\": {\"outlinewidth\": 0, \"ticks\": \"\"}, \"type\": \"choropleth\"}], \"contour\": [{\"colorbar\": {\"outlinewidth\": 0, \"ticks\": \"\"}, \"colorscale\": [[0.0, \"#0d0887\"], [0.1111111111111111, \"#46039f\"], [0.2222222222222222, \"#7201a8\"], [0.3333333333333333, \"#9c179e\"], [0.4444444444444444, \"#bd3786\"], [0.5555555555555556, \"#d8576b\"], [0.6666666666666666, \"#ed7953\"], [0.7777777777777778, \"#fb9f3a\"], [0.8888888888888888, \"#fdca26\"], [1.0, \"#f0f921\"]], \"type\": \"contour\"}], \"contourcarpet\": [{\"colorbar\": {\"outlinewidth\": 0, \"ticks\": \"\"}, \"type\": \"contourcarpet\"}], \"heatmap\": [{\"colorbar\": {\"outlinewidth\": 0, \"ticks\": \"\"}, \"colorscale\": [[0.0, \"#0d0887\"], [0.1111111111111111, \"#46039f\"], [0.2222222222222222, \"#7201a8\"], [0.3333333333333333, \"#9c179e\"], [0.4444444444444444, \"#bd3786\"], [0.5555555555555556, \"#d8576b\"], [0.6666666666666666, \"#ed7953\"], [0.7777777777777778, \"#fb9f3a\"], [0.8888888888888888, \"#fdca26\"], [1.0, \"#f0f921\"]], \"type\": \"heatmap\"}], \"heatmapgl\": [{\"colorbar\": {\"outlinewidth\": 0, \"ticks\": \"\"}, \"colorscale\": [[0.0, \"#0d0887\"], [0.1111111111111111, \"#46039f\"], [0.2222222222222222, \"#7201a8\"], [0.3333333333333333, \"#9c179e\"], [0.4444444444444444, \"#bd3786\"], [0.5555555555555556, \"#d8576b\"], [0.6666666666666666, \"#ed7953\"], [0.7777777777777778, \"#fb9f3a\"], [0.8888888888888888, \"#fdca26\"], [1.0, \"#f0f921\"]], \"type\": \"heatmapgl\"}], \"histogram\": [{\"marker\": {\"colorbar\": {\"outlinewidth\": 0, \"ticks\": \"\"}}, \"type\": \"histogram\"}], \"histogram2d\": [{\"colorbar\": {\"outlinewidth\": 0, \"ticks\": \"\"}, \"colorscale\": [[0.0, \"#0d0887\"], [0.1111111111111111, \"#46039f\"], [0.2222222222222222, \"#7201a8\"], [0.3333333333333333, \"#9c179e\"], [0.4444444444444444, \"#bd3786\"], [0.5555555555555556, \"#d8576b\"], [0.6666666666666666, \"#ed7953\"], [0.7777777777777778, \"#fb9f3a\"], [0.8888888888888888, \"#fdca26\"], [1.0, \"#f0f921\"]], \"type\": \"histogram2d\"}], \"histogram2dcontour\": [{\"colorbar\": {\"outlinewidth\": 0, \"ticks\": \"\"}, \"colorscale\": [[0.0, \"#0d0887\"], [0.1111111111111111, \"#46039f\"], [0.2222222222222222, \"#7201a8\"], [0.3333333333333333, \"#9c179e\"], [0.4444444444444444, \"#bd3786\"], [0.5555555555555556, \"#d8576b\"], [0.6666666666666666, \"#ed7953\"], [0.7777777777777778, \"#fb9f3a\"], [0.8888888888888888, \"#fdca26\"], [1.0, \"#f0f921\"]], \"type\": \"histogram2dcontour\"}], \"mesh3d\": [{\"colorbar\": {\"outlinewidth\": 0, \"ticks\": \"\"}, \"type\": \"mesh3d\"}], \"parcoords\": [{\"line\": {\"colorbar\": {\"outlinewidth\": 0, \"ticks\": \"\"}}, \"type\": \"parcoords\"}], \"pie\": [{\"automargin\": true, \"type\": \"pie\"}], \"scatter\": [{\"marker\": {\"colorbar\": {\"outlinewidth\": 0, \"ticks\": \"\"}}, \"type\": \"scatter\"}], \"scatter3d\": [{\"line\": {\"colorbar\": {\"outlinewidth\": 0, \"ticks\": \"\"}}, \"marker\": {\"colorbar\": {\"outlinewidth\": 0, \"ticks\": \"\"}}, \"type\": \"scatter3d\"}], \"scattercarpet\": [{\"marker\": {\"colorbar\": {\"outlinewidth\": 0, \"ticks\": \"\"}}, \"type\": \"scattercarpet\"}], \"scattergeo\": [{\"marker\": {\"colorbar\": {\"outlinewidth\": 0, \"ticks\": \"\"}}, \"type\": \"scattergeo\"}], \"scattergl\": [{\"marker\": {\"colorbar\": {\"outlinewidth\": 0, \"ticks\": \"\"}}, \"type\": \"scattergl\"}], \"scattermapbox\": [{\"marker\": {\"colorbar\": {\"outlinewidth\": 0, \"ticks\": \"\"}}, \"type\": \"scattermapbox\"}], \"scatterpolar\": [{\"marker\": {\"colorbar\": {\"outlinewidth\": 0, \"ticks\": \"\"}}, \"type\": \"scatterpolar\"}], \"scatterpolargl\": [{\"marker\": {\"colorbar\": {\"outlinewidth\": 0, \"ticks\": \"\"}}, \"type\": \"scatterpolargl\"}], \"scatterternary\": [{\"marker\": {\"colorbar\": {\"outlinewidth\": 0, \"ticks\": \"\"}}, \"type\": \"scatterternary\"}], \"surface\": [{\"colorbar\": {\"outlinewidth\": 0, \"ticks\": \"\"}, \"colorscale\": [[0.0, \"#0d0887\"], [0.1111111111111111, \"#46039f\"], [0.2222222222222222, \"#7201a8\"], [0.3333333333333333, \"#9c179e\"], [0.4444444444444444, \"#bd3786\"], [0.5555555555555556, \"#d8576b\"], [0.6666666666666666, \"#ed7953\"], [0.7777777777777778, \"#fb9f3a\"], [0.8888888888888888, \"#fdca26\"], [1.0, \"#f0f921\"]], \"type\": \"surface\"}], \"table\": [{\"cells\": {\"fill\": {\"color\": \"#EBF0F8\"}, \"line\": {\"color\": \"white\"}}, \"header\": {\"fill\": {\"color\": \"#C8D4E3\"}, \"line\": {\"color\": \"white\"}}, \"type\": \"table\"}]}, \"layout\": {\"annotationdefaults\": {\"arrowcolor\": \"#2a3f5f\", \"arrowhead\": 0, \"arrowwidth\": 1}, \"coloraxis\": {\"colorbar\": {\"outlinewidth\": 0, \"ticks\": \"\"}}, \"colorscale\": {\"diverging\": [[0, \"#8e0152\"], [0.1, \"#c51b7d\"], [0.2, \"#de77ae\"], [0.3, \"#f1b6da\"], [0.4, \"#fde0ef\"], [0.5, \"#f7f7f7\"], [0.6, \"#e6f5d0\"], [0.7, \"#b8e186\"], [0.8, \"#7fbc41\"], [0.9, \"#4d9221\"], [1, \"#276419\"]], \"sequential\": [[0.0, \"#0d0887\"], [0.1111111111111111, \"#46039f\"], [0.2222222222222222, \"#7201a8\"], [0.3333333333333333, \"#9c179e\"], [0.4444444444444444, \"#bd3786\"], [0.5555555555555556, \"#d8576b\"], [0.6666666666666666, \"#ed7953\"], [0.7777777777777778, \"#fb9f3a\"], [0.8888888888888888, \"#fdca26\"], [1.0, \"#f0f921\"]], \"sequentialminus\": [[0.0, \"#0d0887\"], [0.1111111111111111, \"#46039f\"], [0.2222222222222222, \"#7201a8\"], [0.3333333333333333, \"#9c179e\"], [0.4444444444444444, \"#bd3786\"], [0.5555555555555556, \"#d8576b\"], [0.6666666666666666, \"#ed7953\"], [0.7777777777777778, \"#fb9f3a\"], [0.8888888888888888, \"#fdca26\"], [1.0, \"#f0f921\"]]}, \"colorway\": [\"#636efa\", \"#EF553B\", \"#00cc96\", \"#ab63fa\", \"#FFA15A\", \"#19d3f3\", \"#FF6692\", \"#B6E880\", \"#FF97FF\", \"#FECB52\"], \"font\": {\"color\": \"#2a3f5f\"}, \"geo\": {\"bgcolor\": \"white\", \"lakecolor\": \"white\", \"landcolor\": \"#E5ECF6\", \"showlakes\": true, \"showland\": true, \"subunitcolor\": \"white\"}, \"hoverlabel\": {\"align\": \"left\"}, \"hovermode\": \"closest\", \"mapbox\": {\"style\": \"light\"}, \"paper_bgcolor\": \"white\", \"plot_bgcolor\": \"#E5ECF6\", \"polar\": {\"angularaxis\": {\"gridcolor\": \"white\", \"linecolor\": \"white\", \"ticks\": \"\"}, \"bgcolor\": \"#E5ECF6\", \"radialaxis\": {\"gridcolor\": \"white\", \"linecolor\": \"white\", \"ticks\": \"\"}}, \"scene\": {\"xaxis\": {\"backgroundcolor\": \"#E5ECF6\", \"gridcolor\": \"white\", \"gridwidth\": 2, \"linecolor\": \"white\", \"showbackground\": true, \"ticks\": \"\", \"zerolinecolor\": \"white\"}, \"yaxis\": {\"backgroundcolor\": \"#E5ECF6\", \"gridcolor\": \"white\", \"gridwidth\": 2, \"linecolor\": \"white\", \"showbackground\": true, \"ticks\": \"\", \"zerolinecolor\": \"white\"}, \"zaxis\": {\"backgroundcolor\": \"#E5ECF6\", \"gridcolor\": \"white\", \"gridwidth\": 2, \"linecolor\": \"white\", \"showbackground\": true, \"ticks\": \"\", \"zerolinecolor\": \"white\"}}, \"shapedefaults\": {\"line\": {\"color\": \"#2a3f5f\"}}, \"ternary\": {\"aaxis\": {\"gridcolor\": \"white\", \"linecolor\": \"white\", \"ticks\": \"\"}, \"baxis\": {\"gridcolor\": \"white\", \"linecolor\": \"white\", \"ticks\": \"\"}, \"bgcolor\": \"#E5ECF6\", \"caxis\": {\"gridcolor\": \"white\", \"linecolor\": \"white\", \"ticks\": \"\"}}, \"title\": {\"x\": 0.05}, \"xaxis\": {\"automargin\": true, \"gridcolor\": \"white\", \"linecolor\": \"white\", \"ticks\": \"\", \"title\": {\"standoff\": 15}, \"zerolinecolor\": \"white\", \"zerolinewidth\": 2}, \"yaxis\": {\"automargin\": true, \"gridcolor\": \"white\", \"linecolor\": \"white\", \"ticks\": \"\", \"title\": {\"standoff\": 15}, \"zerolinecolor\": \"white\", \"zerolinewidth\": 2}}}, \"title\": {\"text\": \"Comment sentiment in /r/covid for the past 48h\"}, \"xaxis\": {\"anchor\": \"y\", \"domain\": [0.0, 1.0], \"title\": {\"text\": \"Date, comment was posted on\"}}, \"yaxis\": {\"anchor\": \"x\", \"domain\": [0.0, 1.0], \"title\": {\"text\": \"Comment positivity\"}}},\n",
       "                        {\"responsive\": true}\n",
       "                    ).then(function(){\n",
       "                            \n",
       "var gd = document.getElementById('798e1611-7f01-4234-93dc-a22513920b25');\n",
       "var x = new MutationObserver(function (mutations, observer) {{\n",
       "        var display = window.getComputedStyle(gd).display;\n",
       "        if (!display || display === 'none') {{\n",
       "            console.log([gd, 'removed!']);\n",
       "            Plotly.purge(gd);\n",
       "            observer.disconnect();\n",
       "        }}\n",
       "}});\n",
       "\n",
       "// Listen for the removal of the full notebook cells\n",
       "var notebookContainer = gd.closest('#notebook-container');\n",
       "if (notebookContainer) {{\n",
       "    x.observe(notebookContainer, {childList: true});\n",
       "}}\n",
       "\n",
       "// Listen for the clearing of the current output cell\n",
       "var outputEl = gd.closest('.output');\n",
       "if (outputEl) {{\n",
       "    x.observe(outputEl, {childList: true});\n",
       "}}\n",
       "\n",
       "                        })\n",
       "                };\n",
       "                });\n",
       "            </script>\n",
       "        </div>"
      ]
     },
     "metadata": {},
     "output_type": "display_data"
    }
   ],
   "source": [
    "data = get_reddit_data(data_type=\"comment\", after=TIMEFRAME, size=1000, sort_type=\"score\", sort=\"desc\", subreddit=SUBREDDIT_OF_INTEREST).get(\"data\")\n",
    "df = pandas.DataFrame.from_records(data)[[\"author\", \"body\", \"created_utc\", \"score\", \"permalink\"]]\n",
    "\n",
    "df[\"sentiment_polarity\"] = df.apply(lambda row: textblob.TextBlob(row[\"body\"]).sentiment.polarity, axis=1)\n",
    "df[\"sentiment_subjectivity\"] = df.apply(lambda row: textblob.TextBlob(row[\"body\"]).sentiment.subjectivity, axis=1)\n",
    "df[\"sentiment\"] = df.apply(lambda row: \"positive\" if row[\"sentiment_polarity\"] >= 0 else \"negative\", axis=1)\n",
    "\n",
    "df[\"preview\"] = df[\"body\"].str[0:50]\n",
    "\n",
    "df[\"date\"] = pandas.to_datetime(df['created_utc'],unit='s')\n",
    "\n",
    "px.scatter(df, x=\"date\", \n",
    "               y=\"sentiment_polarity\",\n",
    "               hover_data=[\"author\", \"permalink\", \"preview\"],\n",
    "               color_discrete_map={\"positive\": \"lightseagreen\", \"negative\": \"indianred\"},\n",
    "               color=\"sentiment\",\n",
    "               size_max=10,\n",
    "               labels={\"sentiment_polarity\": \"Comment positivity\", \"date\": \"Date, comment was posted on\"},\n",
    "               title=f\"Comment sentiment in /r/{SUBREDDIT_OF_INTEREST} for the past {TIMEFRAME}\",\n",
    "          )\n"
   ]
  }
 ],
 "metadata": {
  "hide_input": false,
  "kernelspec": {
   "display_name": "Python 3",
   "language": "python",
   "name": "python3"
  },
  "language_info": {
   "codemirror_mode": {
    "name": "ipython",
    "version": 3
   },
   "file_extension": ".py",
   "mimetype": "text/x-python",
   "name": "python",
   "nbconvert_exporter": "python",
   "pygments_lexer": "ipython3",
   "version": "3.7.4"
  },
  "toc": {
   "base_numbering": 1,
   "nav_menu": {},
   "number_sections": true,
   "sideBar": true,
   "skip_h1_title": false,
   "title_cell": "Table of Contents",
   "title_sidebar": "Contents",
   "toc_cell": false,
   "toc_position": {},
   "toc_section_display": true,
   "toc_window_display": false
  }
 },
 "nbformat": 4,
 "nbformat_minor": 4
}
